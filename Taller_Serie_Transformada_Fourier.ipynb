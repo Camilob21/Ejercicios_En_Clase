{
  "nbformat": 4,
  "nbformat_minor": 0,
  "metadata": {
    "colab": {
      "provenance": [],
      "authorship_tag": "ABX9TyMchLqxfDyto5gv7PzAKa1a",
      "include_colab_link": true
    },
    "kernelspec": {
      "name": "python3",
      "display_name": "Python 3"
    },
    "language_info": {
      "name": "python"
    }
  },
  "cells": [
    {
      "cell_type": "markdown",
      "metadata": {
        "id": "view-in-github",
        "colab_type": "text"
      },
      "source": [
        "<a href=\"https://colab.research.google.com/github/Camilob21/Ejercicios_En_Clase/blob/main/Taller_Serie_Transformada_Fourier.ipynb\" target=\"_parent\"><img src=\"https://colab.research.google.com/assets/colab-badge.svg\" alt=\"Open In Colab\"/></a>"
      ]
    },
    {
      "cell_type": "markdown",
      "source": [
        "Ejercicios Serie y Tansoformada de Fourier"
      ],
      "metadata": {
        "id": "ow9angeVOZNT"
      }
    },
    {
      "cell_type": "markdown",
      "source": [
        "Ejercicio 2.1\n",
        "\n",
        "Diferencias:\n",
        "\n",
        "Serie de Fourier:\n",
        "\n",
        "1. Solo se aplica para funciones periodicas\n",
        "2. Es una suma de senos y cosenos o exponenetes complejos dependiendo del tipo de serie\n",
        "3. La frecuencia es discreta y se relaciona con el periodo de la señal\n",
        "4. Los pesos son obtenidos a travez de sumas\n",
        "5. Reconstruye una señal periodica a partir de componentes discretas.\n",
        "\n",
        "Transformada de Fourier:\n",
        "\n",
        "1. Se puede aplicar para funciones no periodicas.\n",
        "2. Es unba integralo de exponenciales complejos\n",
        "3. Las frecuencias son continuas\n",
        "4. deswcribe la amplitud en cada frecuencia angular (w)\n",
        "5. Permite pasar del dominio en el tiempo a el dominio en frecuencia.\n",
        "\n",
        "Semejanzas:\n",
        "\n",
        "1. Permiten descomponer una señal en una combinacion de senos, cosenos y exponenciales complejos para analizar las frecuencias\n",
        "2. Utilizan exponenciales complejos\n",
        "3. Son lineales.\n",
        "\n",
        "\n",
        "\n"
      ],
      "metadata": {
        "id": "jrbeAyQbO1qf"
      }
    }
  ]
}