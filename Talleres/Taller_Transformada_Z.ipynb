{
  "nbformat": 4,
  "nbformat_minor": 0,
  "metadata": {
    "colab": {
      "provenance": [],
      "authorship_tag": "ABX9TyN7KLFi7gCKUWihQmsDbklm",
      "include_colab_link": true
    },
    "kernelspec": {
      "name": "python3",
      "display_name": "Python 3"
    },
    "language_info": {
      "name": "python"
    }
  },
  "cells": [
    {
      "cell_type": "markdown",
      "metadata": {
        "id": "view-in-github",
        "colab_type": "text"
      },
      "source": [
        "<a href=\"https://colab.research.google.com/github/Camilob21/Ejercicios_En_Clase/blob/main/Talleres/Taller_Transformada_Z.ipynb\" target=\"_parent\"><img src=\"https://colab.research.google.com/assets/colab-badge.svg\" alt=\"Open In Colab\"/></a>"
      ]
    },
    {
      "cell_type": "markdown",
      "source": [
        "**UNIVERSIDAD NACIONAL DE COLOMBIA**\n",
        "\n",
        "Transformda Z Taller\n",
        "\n",
        "William Camilo Obando Cardenas\n",
        "\n",
        "1085897389"
      ],
      "metadata": {
        "id": "CmqxuSBIC7Ub"
      }
    },
    {
      "cell_type": "markdown",
      "source": [
        "#Punto 1\n",
        "1. Descargue 10 segundos de la canción de su preferencia desde youtube, y generé un filtro pasabanda (el usuario debe poder definir las frecuencias de corte) para cada uno de los filtros descritos (el usuario también debe poder fijar los parámetros de diseño de cada filtro). Compare los resultados de los filtros estudiados en este cuaderno tipo IIR para diseño Butterworth, Chebyshev 1, Chebyshev 2, Bessel y Elíptico."
      ],
      "metadata": {
        "id": "gYjYpe-DDNRc"
      }
    },
    {
      "cell_type": "markdown",
      "source": [
        "**Descarga la Cancion**"
      ],
      "metadata": {
        "id": "Hw644BccDdRh"
      }
    },
    {
      "cell_type": "code",
      "execution_count": null,
      "metadata": {
        "id": "FoFVq1DzC3Pi"
      },
      "outputs": [],
      "source": [
        "#! pip install youtube-dl\n",
        "!pip install soundfile\n",
        "!python3 -m pip install --force-reinstall https://github.com/yt-dlp/yt-dlp/archive/master.tar.gz"
      ]
    },
    {
      "cell_type": "code",
      "source": [
        "cancion=\"https://www.youtube.com/watch?v=hwgfwi2wnX4\"\n",
        "!yt-dlp --extract-audio -o \"cancion\" --audio-format mp3 {cancion}\n",
        "!ffmpeg -i cancion.mp3 output.wav"
      ],
      "metadata": {
        "id": "RUrcLtAlDaYv"
      },
      "execution_count": null,
      "outputs": []
    },
    {
      "cell_type": "code",
      "source": [
        "import soundfile as sf # para instalar pip install soundfile\n",
        "#lee archivos wav\n",
        "nombre_out = \"output.wav\"\n",
        "x, fs = sf.read(nombre_out)\n",
        "\n",
        "# read speech signal from file\n",
        "print('Frecuencia de muestreo %.2f[Hz]\\naudio %s' % (fs,nombre_out))"
      ],
      "metadata": {
        "id": "wXVwnaifDtBp"
      },
      "execution_count": null,
      "outputs": []
    },
    {
      "cell_type": "code",
      "source": [
        "x.shape[0]/fs"
      ],
      "metadata": {
        "id": "-3z66wJPDugn"
      },
      "execution_count": null,
      "outputs": []
    },
    {
      "cell_type": "code",
      "source": [
        "xpro = x.copy() #copiar archivos para procesar\n",
        "ti = 40\n",
        "tf = 50\n",
        "xs = xpro[int(ti*fs):int((tf*fs)),:]"
      ],
      "metadata": {
        "id": "CaPz4lA0DwD_"
      },
      "execution_count": null,
      "outputs": []
    },
    {
      "cell_type": "code",
      "source": [
        "#Para escuchar el trozo de audio con el que se va a trabajar:\n",
        "#No usar un trozo muy grande o el entorno se puede desconectar\n",
        "from IPython.display import Audio\n",
        "Audio([xs[:,1], xs[:,0]],rate=fs)"
      ],
      "metadata": {
        "id": "q_BgFg1oDx2c"
      },
      "execution_count": null,
      "outputs": []
    },
    {
      "cell_type": "code",
      "source": [
        "x2 = x.copy()\n",
        "ti = 63\n",
        "tf = ti + 10\n",
        "xs = x2[int(ti*fs):int((tf*fs)),:]\n",
        "K= int(len(xs)/2) + 1\n",
        "\n",
        "Audio([xs[:,1], xs[:,0]],rate=fs) #segmento de audio"
      ],
      "metadata": {
        "id": "AwNBEsjJD0vk"
      },
      "execution_count": null,
      "outputs": []
    },
    {
      "cell_type": "markdown",
      "source": [
        "**Filtro Pasabanda**"
      ],
      "metadata": {
        "id": "ECJw-8P4D1VO"
      }
    },
    {
      "cell_type": "code",
      "source": [
        "from scipy.signal import butter, cheby1, cheby2, bessel, ellip, lfilter, freqz, firwin\n",
        "import matplotlib.pyplot as plt\n",
        "import numpy as np"
      ],
      "metadata": {
        "id": "Zpg7nV1BD6Cy"
      },
      "execution_count": null,
      "outputs": []
    },
    {
      "cell_type": "markdown",
      "source": [
        "**Filtro Butterworth a la canción**"
      ],
      "metadata": {
        "id": "NXt62_h0D8dN"
      }
    },
    {
      "cell_type": "code",
      "source": [
        "filt = 'bandpass' #tipo del filtro (pasa-baja, pasa-alta, pasabanda, rechazabanda)\n",
        "print('\\t\\tFiltro Pasa Banda Butterworth')\n",
        "N = int(input('\\nIngrese el orden del filtro que desea: '))\n",
        "print('El orden del filtro que usted eleigio es de: ', N)\n",
        "\n",
        "Wn = [] #banda pasante\n",
        "# Pedir al usuario que ingrese elementos y agregarlos a la lista\n",
        "ele_uno = int(input(\"\\nIngrese la frecuencia de corte inferior: \"))\n",
        "ele_dos= int(input(\"Ingrese la frecuencia de corte superior: \"))\n",
        "Wn.append(ele_uno)\n",
        "Wn.append(ele_dos)\n",
        "\n",
        "# Imprimir la Banda pasante\n",
        "print(\"Banda Pasante =\", Wn)\n",
        "\n",
        "b, a = butter(N, Wn=Wn, btype=filt, fs=fs)\n",
        "\n",
        "xf = lfilter(b, a, xs, axis=0)\n",
        "Audio([xf[:,1], xf[:,0]],rate=fs) #Audio con ruido filtrado"
      ],
      "metadata": {
        "id": "J4JQUsWvD_tw"
      },
      "execution_count": null,
      "outputs": []
    },
    {
      "cell_type": "markdown",
      "source": [
        "**Filtro Chebyshev**"
      ],
      "metadata": {
        "id": "vLM8kxafEGwY"
      }
    },
    {
      "cell_type": "code",
      "source": [
        "filt = 'bandpass' #tipo del filtro (pasa-baja, pasa-alta, pasabanda, rechazabanda)\n",
        "print('\\t\\tFiltro Pasa Banda Butterworth')\n",
        "N = int(input('\\nIngrese el orden del filtro que desea: '))\n",
        "print('El orden del filtro que usted eleigio es de: ', N)\n",
        "\n",
        "Wn = [] #banda pasante\n",
        "# Pedir al usuario que ingrese elementos y agregarlos a la lista\n",
        "ele_uno = int(input(\"\\nIngrese la frecuencia de corte inferior: \"))\n",
        "ele_dos= int(input(\"Ingrese la frecuencia de corte superior: \"))\n",
        "Wn.append(ele_uno)\n",
        "Wn.append(ele_dos)\n",
        "\n",
        "# Imprimir la Banda pasante\n",
        "print(\"Banda Pasante =\", Wn)\n",
        "\n",
        "b, a = butter(N, Wn=Wn, btype=filt, fs=fs)\n",
        "\n",
        "xf = lfilter(b, a, xs, axis=0)\n",
        "Audio([xf[:,1], xf[:,0]],rate=fs) #Audio con ruido filtrado\n"
      ],
      "metadata": {
        "id": "eIZmxHWMEB6q"
      },
      "execution_count": null,
      "outputs": []
    },
    {
      "cell_type": "code",
      "source": [
        "filt = 'bandpass' #tipo del filtro (pasa-baja, pasa-alta, pasabanda, rechazabanda)\n",
        "print('\\t\\tFiltro Pasa Banda chebyshev2')\n",
        "N = int(input('\\nIngrese el orden del filtro que desea: '))\n",
        "print('El orden del filtro que usted eleigio es de: ', N)\n",
        "\n",
        "Wn = [] #banda pasante\n",
        "# Pedir al usuario que ingrese elementos y agregarlos a la lista\n",
        "ele_uno = int(input(\"\\nIngrese la frecuencia de corte inferior: \"))\n",
        "ele_dos= int(input(\"Ingrese la frecuencia de corte superior: \"))\n",
        "Wn.append(ele_uno)\n",
        "Wn.append(ele_dos)\n",
        "\n",
        "# Imprimir la Banda pasante\n",
        "print(\"Banda Pasante =\", Wn)\n",
        "\n",
        "\n",
        "ripple = int(input(\"\\nIngrese su valor de ripple: \"))\n",
        "print(\"ripple: \",ripple)\n",
        "\n",
        "b, a = cheby2(N, rs=ripple, Wn=Wn, btype=filt, fs=fs)\n",
        "\n",
        "xf = lfilter(b, a, xs, axis=0)\n",
        "Audio([xf[:,1], xf[:,0]],rate=fs) #Audio con ruido filtrado"
      ],
      "metadata": {
        "id": "Mo8zrQqoEO5A"
      },
      "execution_count": null,
      "outputs": []
    },
    {
      "cell_type": "markdown",
      "source": [
        "**Filtro Bessel**"
      ],
      "metadata": {
        "id": "0Mt4dEnBEU92"
      }
    },
    {
      "cell_type": "code",
      "source": [
        "filt = 'bandpass' #tipo del filtro (pasa-baja, pasa-alta, pasabanda, rechazabanda)\n",
        "print('\\t\\tFiltro Pasa Banda bessel')\n",
        "N = int(input('\\nIngrese el orden del filtro que desea: '))\n",
        "print('El orden del filtro que usted eleigio es de: ', N)\n",
        "\n",
        "Wn = [] #banda pasante\n",
        "# Pedir al usuario que ingrese elementos y agregarlos a la lista\n",
        "ele_uno = int(input(\"\\nIngrese la frecuencia de corte inferior: \"))\n",
        "ele_dos= int(input(\"Ingrese la frecuencia de corte superior: \"))\n",
        "Wn.append(ele_uno)\n",
        "Wn.append(ele_dos)\n",
        "\n",
        "# Imprimir la Banda pasante\n",
        "print(\"Banda Pasante =\", Wn)\n",
        "normalization = 'mag' #Ajusta la frecuencia crítica según la respuesta que se desea\n",
        "num, den = bessel(N, Wn=Wn, btype=filt, norm=normalization, fs=fs) #regresa numerador y denominador. Si se quiere obtener los polos y ceros usar scipy.signal.tf2zpk\n",
        "\n",
        "xf = lfilter(num, den, xs, axis=0)\n",
        "Audio([xf[:,1], xf[:,0]],rate=fs) #Audio con ruido filtrado"
      ],
      "metadata": {
        "id": "p8NSutY-EVZ7"
      },
      "execution_count": null,
      "outputs": []
    },
    {
      "cell_type": "markdown",
      "source": [
        "**Filtro elíptico**"
      ],
      "metadata": {
        "id": "MXsxe-F-Ec8U"
      }
    },
    {
      "cell_type": "code",
      "source": [
        "filt = 'bandpass' #tipo del filtro (pasa-baja, pasa-alta, pasabanda, rechazabanda)\n",
        "print('\\t\\tFiltro Pasa Banda Elíptico')\n",
        "N = int(input('\\nIngrese el orden del filtro que desea: '))\n",
        "print('El orden del filtro que usted eleigio es de: ', N)\n",
        "\n",
        "Wn = [] #banda pasante\n",
        "# Pedir al usuario que ingrese elementos y agregarlos a la lista\n",
        "ele_uno = int(input(\"\\nIngrese la frecuencia de corte inferior: \"))\n",
        "ele_dos= int(input(\"Ingrese la frecuencia de corte superior: \"))\n",
        "Wn.append(ele_uno)\n",
        "Wn.append(ele_dos)\n",
        "\n",
        "# Imprimir la Banda pasante\n",
        "print(\"Banda Pasante =\", Wn)\n",
        "\n",
        "ripple_pass = int(input(\"\\nIngrese su valor de ripple pass: \"))\n",
        "ripple_stop = int(input(\"Ingrese su valor de ripple stop: \"))\n",
        "num, den = ellip(N, rp=ripple_pass, rs=ripple_stop, Wn=Wn, btype=filt, fs=fs) #regresa numerador y denominador. Si se quiere obtener los polos y ceros usar scipy.signal.tf2zpk\n",
        "\n",
        "xf = lfilter(num, den, xs, axis=0)\n",
        "Audio([xf[:,1], xf[:,0]],rate=fs) #Audio con ruido filtrado"
      ],
      "metadata": {
        "id": "oeT37uSrEeCf"
      },
      "execution_count": null,
      "outputs": []
    },
    {
      "cell_type": "markdown",
      "source": [
        "#Punto 2"
      ],
      "metadata": {
        "id": "_V9AciKqEgpS"
      }
    },
    {
      "cell_type": "markdown",
      "source": [
        "2. Consulte en qué consiste el método de diseño de filtros FIR por ventaneo (Ver función [firwin](https://docs.scipy.org/doc/scipy/reference/generated/scipy.signal.firwin.html) y [material de apoyo](https://www.programcreek.com/python/example/100540/scipy.signal.firwin)). Realice un cuadro comparativo de las ventajas y desventajas de los filtros IIR y los FIR. Nota: Recuerde que un filtro FIR utiliza solamente raíces tipo ceros, es decir que $a_0=1$, y $a_k=0$ $\\forall k\\in\\{1,2,\\dots\\}$."
      ],
      "metadata": {
        "id": "NdAxdJunElIT"
      }
    },
    {
      "cell_type": "markdown",
      "source": [
        "El método de diseño de filtros FIR (Finite Impulse Response) por ventaneo es una técnica que se utiliza para diseñar este tipo de filtros. La idea principal es obtener la respuesta al impulso del filtro multiplicando la respuesta al impulso de un filtro ideal (como el filtro pasa bajas, pasa altas, pasa banda, etc.) por una ventana.\n",
        "\n",
        "En el contexto de la función firwin de SciPy, esta función permite diseñar filtros FIR mediante el método de ventaneo. Se especifica el tipo de filtro deseado (pasa bajos, pasa altos, pasa banda, etc.), la frecuencia de corte o las frecuencias de banda, y la longitud del filtro. Además, se puede elegir la ventana a utilizar (por ejemplo, ventana Hamming, ventana Blackman, etc.).\n",
        "\n",
        "| Característica                  | Filtros IIR                                      | Filtros FIR                                        |\n",
        "|----------------------------------|-------------------------------------------------|----------------------------------------------------|\n",
        "| *Estabilidad*                  | Pueden ser inestables dependiendo de la elección de coeficientes. | Siempre son estables, ya que no tienen polos en el plano Z. |\n",
        "| *Implementación*               | Suelen requerir menos coeficientes, siendo computacionalmente más eficientes. | Pueden requerir más coeficientes, siendo más demandantes en términos computacionales. |\n",
        "| *Respuesta al impulso*         | Puede tener una respuesta al impulso de duración infinita. | Siempre tienen una respuesta al impulso de duración finita. |\n",
        "| *Fase*                         | Pueden introducir distorsiones de fase no lineales. | Introducen distorsiones de fase lineales.            |\n",
        "| *Diseño*                       | Más complejo de diseñar debido a la presencia de polos. | Más simple de diseñar, ya que solo se utilizan ceros. |\n",
        "| *Aplicaciones típicas*         | Filtros de audio, control, sistemas en tiempo real. | Aplicaciones donde la linealidad de la fase es crítica, como en algunas aplicaciones de audio y comunicaciones. |\n",
        "| *Flexibilidad en la respuesta* | Mayor flexibilidad en la forma de la respuesta de frecuencia. | Menor flexibilidad en comparación con IIR, pero se pueden adaptar bien a ciertos requerimientos. |"
      ],
      "metadata": {
        "id": "p-un6mWBEsdW"
      }
    },
    {
      "cell_type": "markdown",
      "source": [
        "#Punto 3"
      ],
      "metadata": {
        "id": "Yv1mUi9xExDL"
      }
    },
    {
      "cell_type": "markdown",
      "source": [
        "3. Incluya la implementación del filtro `firwin` en el punto 1."
      ],
      "metadata": {
        "id": "HNyKJ_kbEyTu"
      }
    },
    {
      "cell_type": "code",
      "source": [
        "from scipy.signal import butter, cheby1, cheby2, bessel, ellip, lfilter, freqz, firwin\n",
        "import matplotlib.pyplot as plt\n",
        "import numpy as np"
      ],
      "metadata": {
        "id": "zJYV3l0rFxSt"
      },
      "execution_count": null,
      "outputs": []
    },
    {
      "cell_type": "code",
      "source": [
        "#! pip install youtube-dl\n",
        "!python3 -m pip install --force-reinstall https://github.com/yt-dlp/yt-dlp/archive/master.tar.gz\n",
        "cancion=\"https://www.youtube.com/watch?v=hwgfwi2wnX4\"\n",
        "!yt-dlp --extract-audio -o \"cancion\" --audio-format mp3 {cancion}\n",
        "!ffmpeg -i cancion.mp3 output.wav\n",
        "!pip install soundfile"
      ],
      "metadata": {
        "colab": {
          "base_uri": "https://localhost:8080/"
        },
        "id": "C1OD0vT_FCf1",
        "outputId": "65b91657-9dee-4ab8-f3d7-9c460081a7f6"
      },
      "execution_count": null,
      "outputs": [
        {
          "metadata": {
            "tags": null
          },
          "name": "stdout",
          "output_type": "stream",
          "text": [
            "Collecting https://github.com/yt-dlp/yt-dlp/archive/master.tar.gz\n",
            "  Using cached https://github.com/yt-dlp/yt-dlp/archive/master.tar.gz\n",
            "  Installing build dependencies ... \u001b[?25l\u001b[?25hdone\n",
            "  Getting requirements to build wheel ... \u001b[?25l\u001b[?25hdone\n",
            "  Preparing metadata (pyproject.toml) ... \u001b[?25l\u001b[?25hdone\n",
            "Building wheels for collected packages: yt-dlp\n",
            "  Building wheel for yt-dlp (pyproject.toml) ... \u001b[?25l\u001b[?25hdone\n",
            "  Created wheel for yt-dlp: filename=yt_dlp-2025.2.19-py3-none-any.whl size=2947654 sha256=5ec7632f415bf474a1735d7fbfe5113fba2fb18f08231ed598bc522f6ce9a5ad\n",
            "  Stored in directory: /tmp/pip-ephem-wheel-cache-uim53sl3/wheels/2d/79/97/7209650ef73114e0fe0603480da012ad3afacb9cae6b8acd9a\n",
            "Successfully built yt-dlp\n",
            "Installing collected packages: yt-dlp\n",
            "  Attempting uninstall: yt-dlp\n",
            "    Found existing installation: yt-dlp 2025.2.19\n",
            "    Uninstalling yt-dlp-2025.2.19:\n",
            "      Successfully uninstalled yt-dlp-2025.2.19\n",
            "Successfully installed yt-dlp-2025.2.19\n",
            "[youtube] Extracting URL: https://www.youtube.com/watch?v=TyA-oz7lSrc\n",
            "[youtube] TyA-oz7lSrc: Downloading webpage\n",
            "[youtube] TyA-oz7lSrc: Downloading tv client config\n",
            "[youtube] TyA-oz7lSrc: Downloading player f6e09c70\n",
            "[youtube] TyA-oz7lSrc: Downloading tv player API JSON\n",
            "[youtube] TyA-oz7lSrc: Downloading ios player API JSON\n",
            "[youtube] TyA-oz7lSrc: Downloading m3u8 information\n",
            "[info] TyA-oz7lSrc: Downloading 1 format(s): 328\n",
            "[download] cancion.mp3 has already been downloaded\n",
            "[ExtractAudio] Not converting audio cancion.mp3; file is already in target format mp3\n",
            "ffmpeg version 4.4.2-0ubuntu0.22.04.1 Copyright (c) 2000-2021 the FFmpeg developers\n",
            "  built with gcc 11 (Ubuntu 11.2.0-19ubuntu1)\n",
            "  configuration: --prefix=/usr --extra-version=0ubuntu0.22.04.1 --toolchain=hardened --libdir=/usr/lib/x86_64-linux-gnu --incdir=/usr/include/x86_64-linux-gnu --arch=amd64 --enable-gpl --disable-stripping --enable-gnutls --enable-ladspa --enable-libaom --enable-libass --enable-libbluray --enable-libbs2b --enable-libcaca --enable-libcdio --enable-libcodec2 --enable-libdav1d --enable-libflite --enable-libfontconfig --enable-libfreetype --enable-libfribidi --enable-libgme --enable-libgsm --enable-libjack --enable-libmp3lame --enable-libmysofa --enable-libopenjpeg --enable-libopenmpt --enable-libopus --enable-libpulse --enable-librabbitmq --enable-librubberband --enable-libshine --enable-libsnappy --enable-libsoxr --enable-libspeex --enable-libsrt --enable-libssh --enable-libtheora --enable-libtwolame --enable-libvidstab --enable-libvorbis --enable-libvpx --enable-libwebp --enable-libx265 --enable-libxml2 --enable-libxvid --enable-libzimg --enable-libzmq --enable-libzvbi --enable-lv2 --enable-omx --enable-openal --enable-opencl --enable-opengl --enable-sdl2 --enable-pocketsphinx --enable-librsvg --enable-libmfx --enable-libdc1394 --enable-libdrm --enable-libiec61883 --enable-chromaprint --enable-frei0r --enable-libx264 --enable-shared\n",
            "  libavutil      56. 70.100 / 56. 70.100\n",
            "  libavcodec     58.134.100 / 58.134.100\n",
            "  libavformat    58. 76.100 / 58. 76.100\n",
            "  libavdevice    58. 13.100 / 58. 13.100\n",
            "  libavfilter     7.110.100 /  7.110.100\n",
            "  libswscale      5.  9.100 /  5.  9.100\n",
            "  libswresample   3.  9.100 /  3.  9.100\n",
            "  libpostproc    55.  9.100 / 55.  9.100\n",
            "Input #0, mp3, from 'cancion.mp3':\n",
            "  Metadata:\n",
            "    encoder         : Lavf58.76.100\n",
            "  Duration: 00:04:13.37, start: 0.023021, bitrate: 143 kb/s\n",
            "  Stream #0:0: Audio: mp3, 48000 Hz, stereo, fltp, 143 kb/s\n",
            "    Metadata:\n",
            "      encoder         : Lavc58.13\n",
            "File 'output.wav' already exists. Overwrite? [y/N] "
          ]
        }
      ]
    },
    {
      "cell_type": "code",
      "source": [
        "import soundfile as sf # para instalar pip install soundfile\n",
        "#lee archivos wav\n",
        "nombre_out = \"output.wav\"\n",
        "x, fs = sf.read(nombre_out)\n",
        "\n",
        "# read speech signal from file\n",
        "print('Frecuencia de muestreo %.2f[Hz]\\naudio %s' % (fs,nombre_out))"
      ],
      "metadata": {
        "id": "0TbCXxDYFLYz"
      },
      "execution_count": null,
      "outputs": []
    },
    {
      "cell_type": "code",
      "source": [
        "x.shape[0]/fs"
      ],
      "metadata": {
        "id": "zq_9beYEFNNb"
      },
      "execution_count": null,
      "outputs": []
    },
    {
      "cell_type": "code",
      "source": [
        "xpro = x.copy() #copiar archivos para procesar\n",
        "ti = 40\n",
        "tf = 50\n",
        "xs = xpro[int(ti*fs):int((tf*fs)),:]"
      ],
      "metadata": {
        "id": "paXF8f4HFOxl"
      },
      "execution_count": null,
      "outputs": []
    },
    {
      "cell_type": "code",
      "source": [
        "x2 = x.copy()\n",
        "ti = 63\n",
        "tf = ti + 10\n",
        "xs = x2[int(ti*fs):int((tf*fs)),:]\n",
        "K= int(len(xs)/2) + 1\n",
        "\n",
        "Audio([xs[:,1], xs[:,0]],rate=fs) #segmento de audio"
      ],
      "metadata": {
        "id": "ZGupImbMFQjf"
      },
      "execution_count": null,
      "outputs": []
    },
    {
      "cell_type": "code",
      "source": [
        "filt = 'bandpass' #tipo del filtro (pasa-baja, pasa-alta, pasabanda, rechazabanda)\n",
        "print('\\t\\tFiltro Pasa Banda Firwin')\n",
        "N = int(input('\\nIngrese el orden del filtro que desea: '))\n",
        "print('El orden del filtro que usted eleigio es de: ', N)\n",
        "\n",
        "Wn = [] #banda pasante\n",
        "# Pedir al usuario que ingrese elementos y agregarlos a la lista\n",
        "ele_uno = int(input(\"\\nIngrese la frecuencia de corte inferior: \"))\n",
        "ele_dos= int(input(\"Ingrese la frecuencia de corte superior: \"))\n",
        "Wn.append(ele_uno)\n",
        "Wn.append(ele_dos)\n",
        "\n",
        "# Imprimir la Banda pasante\n",
        "print(\"Banda Pasante =\", Wn)\n",
        "\n",
        "fir_coeff = firwin(N, Wn, fs=fs, window='hamming')\n",
        "\n",
        "xf = lfilter(fir_coeff, 4.0, xs, axis=0)\n",
        "Audio([xf[:,1], xf[:,0]],rate=fs) #Audio con ruido filtrado"
      ],
      "metadata": {
        "id": "6uyUQ252FzG2"
      },
      "execution_count": null,
      "outputs": []
    }
  ]
}