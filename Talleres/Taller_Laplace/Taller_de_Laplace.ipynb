{
  "nbformat": 4,
  "nbformat_minor": 0,
  "metadata": {
    "colab": {
      "provenance": [],
      "collapsed_sections": [
        "gMUdSGaYn9xx"
      ],
      "include_colab_link": true
    },
    "kernelspec": {
      "name": "python3",
      "display_name": "Python 3"
    },
    "language_info": {
      "name": "python"
    }
  },
  "cells": [
    {
      "cell_type": "markdown",
      "metadata": {
        "id": "view-in-github",
        "colab_type": "text"
      },
      "source": [
        "<a href=\"https://colab.research.google.com/github/Camilob21/Ejercicios_En_Clase/blob/main/Talleres/Taller_Laplace/Taller_de_Laplace.ipynb\" target=\"_parent\"><img src=\"https://colab.research.google.com/assets/colab-badge.svg\" alt=\"Open In Colab\"/></a>"
      ]
    },
    {
      "cell_type": "markdown",
      "source": [
        "TALLER DE APLICACION LAPLACE\n",
        "\n",
        "William Camilo Obando Cardenas\n",
        "\n",
        "cc. 1085897389"
      ],
      "metadata": {
        "id": "7qUIuMaonUJu"
      }
    },
    {
      "cell_type": "markdown",
      "source": [
        "#Punto 1"
      ],
      "metadata": {
        "id": "gMUdSGaYn9xx"
      }
    },
    {
      "cell_type": "markdown",
      "source": [
        "- El [péndulo elástico](https://en.wikipedia.org/wiki/Spring_pendulum) amortiguado es un ejemplo de un sistema mecánico que puede ser modelado por una ecuación diferencial ordinaria lineal (EDO) con coeficientes constantes.\n",
        "\n",
        "- Desde el punto de vista de la teoría de señales y sistemas, puede ser interpretado como un sistema lineal invariante en el tiempo (SLIT).\n",
        "\n",
        "- Las propiedades mecánicas del péndulo elástico amortiguado se analizan utilizando la teoría de los SLIT. La configuración mecánica subyacente se muestra en la siguiente figura:\n",
        "\n",
        "![Péndulo Elástico Amortiguado](https://github.com/amalvarezme/SenalesSistemas/blob/master/4_Transformada_Laplace/damped_spring.png?raw=1)\n",
        "\n",
        "- Un cuerpo rígido de masa $m$ está montado sobre un resorte con rigidez $k$ que está conectado al suelo.\n",
        "\n",
        "- Un amortiguador con un coeficiente de amortiguamiento $c$ se monta paralelo al resorte para modelar la fricción presente en el sistema.\n",
        "\n",
        "- Se asume que el movimiento de la masa a lo largo del tiempo está restringido al eje vertical, aquí indicado por $y$. Además, se asume que la masa no se mueve para $ t <0 $.\n",
        "\n",
        "- Denotando el desplazamiento de la masa con respecto al tiempo con $y(t)$, las condiciones iniciales se formulan como $y(t)=0$ y $\\frac{d y(t)}{dt}=0$ para $t<0$.\n",
        "\n",
        "- Se utilizarán los siguientes valores $m = 0.1$,  $c = 0.1$ y $k = 2.5$ para ilustrar de manera más sencilla el siguiente ejemplo."
      ],
      "metadata": {
        "id": "j3KvHOF2oTjq"
      }
    },
    {
      "cell_type": "markdown",
      "metadata": {
        "id": "LujI96aT7k2T"
      },
      "source": [
        "Ecuación diferencial\n",
        "\n",
        "La ecuación diferencia del sistema mecánico se obtiene al considerar el equilibrio de fuerzas ejercidas sobre la masa:\n",
        "\n",
        "\\begin{equation}\n",
        "F_\\text{S}(t) + F_\\text{F}(t) + F_\\text{I}(t) = F_\\text{E}(t)\n",
        "\\end{equation}\n",
        "\n",
        "Donde $F_\\text{E}(t) $ denota una fuerza externa que actúa sobre la masa. La fuerza $F_\\text{S}(t)$ inducida por el resorte está dada por la [ley de Hooke](https://en.wikipedia.org/wiki/Hooke%27s_law)\n",
        "\n",
        "\\begin{equation}\n",
        "F_\\text{S}(t) = k y(t)\n",
        "\\end{equation}\n",
        "\n",
        "Es común modelar la fuerza de fricción $F_\\text{F}(t)$ inducida por el amortiguador de manera proporcional a la velocidad de la masa\n",
        "\n",
        "\\begin{equation}\n",
        "F_\\text{F}(t) = c \\frac{d y(t)}{dt}\n",
        "\\end{equation}\n",
        "\n",
        "La fuerza inercial $F_\\text{I}(t)$ debida a la aceleración de la masa se da como\n",
        "\n",
        "\\begin{equation}\n",
        "F_\\text{I}(t) = m \\frac{d^2 y(t)}{dt^2}\n",
        "\\end{equation}\n",
        "\n",
        "Al introducir las fuerzas anteriormente halladas en el equilibrio de fuerzas se obtiene la ecuación diferencial que describe el desplazamiento del péndulo elástico amortiguado\n",
        "\n",
        "\\begin{equation}\n",
        "m \\frac{d^2 y(t)}{dt^2} + c \\frac{d y(t)}{dt} + k y(t) = F_\\text{E}(t)\n",
        "\\end{equation}\n",
        "\n",
        "Como consecuencia de la fuerza externa.\n",
        "\n",
        "La ecuación anterior constituye una EDO con coeficientes constantes. Puede interpretarse como un SLTI con la fuerza externa $x(t)=F_\\text{E}(t)$ como señal de entrada y el desplazamiento de la masa como la señal de salida $y(t)$."
      ]
    },
    {
      "cell_type": "markdown",
      "source": [
        "Comparación con la red eléctrica\n",
        "\n",
        "Comparando las EDO del péndulo elástico amortiguado y el circuito RLC, se tiene que ambos constituyen una EDO de segundo orden con coeficientes constantes.\n",
        "\n",
        "La división de la EDO del circuito por la constante $C$ resulta en:\n",
        "\n",
        "\\begin{equation}\n",
        "L \\frac{d^2 u_\\text{o}(t)}{dt^2} + R \\frac{d u_\\text{o}(t)}{dt} + \\frac{1}{C} u_\\text{o}(t) = \\frac{1}{C} u_\\text{i}(t)\n",
        "\\end{equation}\n",
        "\n",
        "Donde $u_\\text{i}(t)$ y $u_\\text{o}(t)$ denotan el voltaje de entrada y salida del circuito respesctivamente.\n",
        "\n",
        "La comparación de la EDO anterior con la del péndulo elástico amortiguado produce [equivalencia entre sistemas](https://en.wikipedia.org/wiki/System_equivalence) así:\n",
        "\n",
        "|                         | Circuito RLC | Péndulo elástico                          |\n",
        "|-------------------------|------------------------------------|-------------------------------------------|\n",
        "| Señal de entrada $x(t)$ | $u_\\text{i}(t) = F_\\text{E}(t) C$  | $F_\\text{E}(t) = \\frac{u_\\text{i}(t)}{C}$ |\n",
        "| Señal de salida $y(t)$  | $u_\\text{o}(t)$                    | $y(t)$                                    |\n",
        "|                         | $L=m$                              | $m=L$                                     |\n",
        "|                         | $R=c$                              | $c=R$                                     |\n",
        "|                         | $C=\\frac{1}{k}$                    | $k=\\frac{1}{C}$                           |"
      ],
      "metadata": {
        "id": "UdrIX1JUot2c"
      }
    },
    {
      "cell_type": "markdown",
      "source": [
        "Respuesta al Impulso\n",
        "\n",
        "El SLIT correspondiente al péndulo puede ser caracterizado por su respuesta al impulso $h(t)$. Se define como la salida del sistema ante una entra $x(t) = \\delta(t)$ en la entrada. La respuesta al impulso caracteriza el movimiento $y(t)$ de la masa ante un evento.\n",
        "\n",
        "Primero, se define la EDO del péndulo elástico amortiguado con `SymPy`"
      ],
      "metadata": {
        "id": "eiyRgEIGo0OS"
      }
    },
    {
      "cell_type": "code",
      "source": [
        "%matplotlib inline\n",
        "import sympy as sym\n",
        "sym.init_printing()\n",
        "\n",
        "t, m, c, k = sym.symbols('t m c k', real=True)\n",
        "x = sym.Function('x')(t)\n",
        "y = sym.Function('y')(t)\n",
        "\n",
        "ode = sym.Eq(m*y.diff(t, 2) + c*y.diff(t) + k*y, x)\n",
        "ode"
      ],
      "metadata": {
        "colab": {
          "base_uri": "https://localhost:8080/",
          "height": 0
        },
        "id": "2P3mByElov5c",
        "outputId": "8838225c-afc6-4126-e863-b9564f9e132b"
      },
      "execution_count": 751,
      "outputs": [
        {
          "output_type": "execute_result",
          "data": {
            "text/plain": [
              "                         2              \n",
              "  d                     d               \n",
              "c⋅──(y(t)) + k⋅y(t) + m⋅───(y(t)) = x(t)\n",
              "  dt                      2             \n",
              "                        dt              "
            ],
            "text/latex": "$\\displaystyle c \\frac{d}{d t} y{\\left(t \\right)} + k y{\\left(t \\right)} + m \\frac{d^{2}}{d t^{2}} y{\\left(t \\right)} = x{\\left(t \\right)}$"
          },
          "metadata": {},
          "execution_count": 751
        }
      ]
    },
    {
      "cell_type": "markdown",
      "source": [
        "Se guardan los valores de las constantes en un diccionario para posteriores sustituciones"
      ],
      "metadata": {
        "id": "XGkePQydpRLO"
      }
    },
    {
      "cell_type": "code",
      "source": [
        "mck = {m: 0.1, c: sym.Rational('.1'), k: sym.Rational('2.5')}\n",
        "mck"
      ],
      "metadata": {
        "colab": {
          "base_uri": "https://localhost:8080/",
          "height": 0
        },
        "id": "FrQt4_pqo5tH",
        "outputId": "d5e2b0f1-0c7f-4c77-e82c-a4b0767f1833"
      },
      "execution_count": 752,
      "outputs": [
        {
          "output_type": "execute_result",
          "data": {
            "text/plain": [
              "{c: 1/10, k: 5/2, m: 0.1}"
            ],
            "text/latex": "$\\displaystyle \\left\\{ c : \\frac{1}{10}, \\  k : \\frac{5}{2}, \\  m : 0.1\\right\\}$"
          },
          "metadata": {},
          "execution_count": 752
        }
      ]
    },
    {
      "cell_type": "markdown",
      "source": [
        "La respuesta al impulso se calcula al resolver la EDO"
      ],
      "metadata": {
        "id": "vYKFDquKpVI3"
      }
    },
    {
      "cell_type": "code",
      "source": [
        "solution_h = sym.dsolve(ode.subs(x, sym.DiracDelta(t)).subs(y, sym.Function('h')(t)))\n",
        "solution_h"
      ],
      "metadata": {
        "colab": {
          "base_uri": "https://localhost:8080/",
          "height": 0
        },
        "id": "NwUwpK3Ko7Mn",
        "outputId": "0aeba9cd-1ccd-4c48-c9e1-17531d700977"
      },
      "execution_count": 753,
      "outputs": [
        {
          "output_type": "execute_result",
          "data": {
            "text/plain": [
              "                                                                         ⎛        ____________⎞    ↪\n",
              "             ⎛        ____________⎞          ⎛       ____________⎞       ⎜       ╱  2         ⎟    ↪\n",
              "             ⎜       ╱  2         ⎟          ⎜      ╱  2         ⎟     t⋅⎝-c + ╲╱  c  - 4⋅k⋅m ⎠    ↪\n",
              "           t⋅⎝-c + ╲╱  c  - 4⋅k⋅m ⎠       -t⋅⎝c + ╲╱  c  - 4⋅k⋅m ⎠     ────────────────────────    ↪\n",
              "           ────────────────────────       ─────────────────────────              2⋅m               ↪\n",
              "                     2⋅m                             2⋅m              ℯ                        ⋅θ( ↪\n",
              "h(t) = C₁⋅ℯ                         + C₂⋅ℯ                          + ──────────────────────────── ↪\n",
              "                                                                                ____________       ↪\n",
              "                                                                               ╱  2                ↪\n",
              "                                                                             ╲╱  c  - 4⋅k⋅m        ↪\n",
              "\n",
              "↪          ⎛       ____________⎞      \n",
              "↪          ⎜      ╱  2         ⎟      \n",
              "↪       -t⋅⎝c + ╲╱  c  - 4⋅k⋅m ⎠      \n",
              "↪       ─────────────────────────     \n",
              "↪                  2⋅m                \n",
              "↪ t)   ℯ                         ⋅θ(t)\n",
              "↪ ── - ───────────────────────────────\n",
              "↪                 ____________        \n",
              "↪                ╱  2                 \n",
              "↪              ╲╱  c  - 4⋅k⋅m         "
            ],
            "text/latex": "$\\displaystyle h{\\left(t \\right)} = C_{1} e^{\\frac{t \\left(- c + \\sqrt{c^{2} - 4 k m}\\right)}{2 m}} + C_{2} e^{- \\frac{t \\left(c + \\sqrt{c^{2} - 4 k m}\\right)}{2 m}} + \\frac{e^{\\frac{t \\left(- c + \\sqrt{c^{2} - 4 k m}\\right)}{2 m}} \\theta\\left(t\\right)}{\\sqrt{c^{2} - 4 k m}} - \\frac{e^{- \\frac{t \\left(c + \\sqrt{c^{2} - 4 k m}\\right)}{2 m}} \\theta\\left(t\\right)}{\\sqrt{c^{2} - 4 k m}}$"
          },
          "metadata": {},
          "execution_count": 753
        }
      ]
    },
    {
      "cell_type": "markdown",
      "source": [
        "Las constantes de integración $C_1$ y $C_2$ se determinan a partir de las condiciones iniciales $y(t) = 0$ y $\\frac{d y(t)}{dt}=0$ para $t<0$."
      ],
      "metadata": {
        "id": "-sa84NR-pYeO"
      }
    },
    {
      "cell_type": "code",
      "source": [
        "integration_constants = sym.solve( (solution_h.rhs.limit(t, 0, '-'), solution_h.rhs.diff(t).limit(t, 0, '-')), ['C1', 'C2'] )\n",
        "integration_constants"
      ],
      "metadata": {
        "colab": {
          "base_uri": "https://localhost:8080/",
          "height": 0
        },
        "id": "Yf_FWX6Wo8od",
        "outputId": "86781dcf-a75c-4d20-ff0a-2e8baa0deb24"
      },
      "execution_count": 754,
      "outputs": [
        {
          "output_type": "execute_result",
          "data": {
            "text/plain": [
              "{C₁: 0, C₂: 0}"
            ],
            "text/latex": "$\\displaystyle \\left\\{ C_{1} : 0, \\  C_{2} : 0\\right\\}$"
          },
          "metadata": {},
          "execution_count": 754
        }
      ]
    },
    {
      "cell_type": "markdown",
      "source": [
        "La sustitución de los valores de las constantes de integración $C_1$ y $C_2$ en el resultado anterior, produce la respuesta al impulso del sistema mecánico"
      ],
      "metadata": {
        "id": "A2E3zugDpZc8"
      }
    },
    {
      "cell_type": "code",
      "source": [
        "h = solution_h.subs(integration_constants)\n",
        "h"
      ],
      "metadata": {
        "colab": {
          "base_uri": "https://localhost:8080/",
          "height": 0
        },
        "id": "qIvFNKLio-SM",
        "outputId": "3363b7e2-a72f-41e3-ad09-df05ab01c99c"
      },
      "execution_count": 755,
      "outputs": [
        {
          "output_type": "execute_result",
          "data": {
            "text/plain": [
              "          ⎛        ____________⎞            ⎛       ____________⎞      \n",
              "          ⎜       ╱  2         ⎟            ⎜      ╱  2         ⎟      \n",
              "        t⋅⎝-c + ╲╱  c  - 4⋅k⋅m ⎠         -t⋅⎝c + ╲╱  c  - 4⋅k⋅m ⎠      \n",
              "        ────────────────────────         ─────────────────────────     \n",
              "                  2⋅m                               2⋅m                \n",
              "       ℯ                        ⋅θ(t)   ℯ                         ⋅θ(t)\n",
              "h(t) = ────────────────────────────── - ───────────────────────────────\n",
              "                 ____________                      ____________        \n",
              "                ╱  2                              ╱  2                 \n",
              "              ╲╱  c  - 4⋅k⋅m                    ╲╱  c  - 4⋅k⋅m         "
            ],
            "text/latex": "$\\displaystyle h{\\left(t \\right)} = \\frac{e^{\\frac{t \\left(- c + \\sqrt{c^{2} - 4 k m}\\right)}{2 m}} \\theta\\left(t\\right)}{\\sqrt{c^{2} - 4 k m}} - \\frac{e^{- \\frac{t \\left(c + \\sqrt{c^{2} - 4 k m}\\right)}{2 m}} \\theta\\left(t\\right)}{\\sqrt{c^{2} - 4 k m}}$"
          },
          "metadata": {},
          "execution_count": 755
        }
      ]
    },
    {
      "cell_type": "markdown",
      "source": [
        "Se grafica la respuesta para los valores de $m$, $c$ y $k$ definidas anteriormente"
      ],
      "metadata": {
        "id": "Q9vxh6QGpdYN"
      }
    },
    {
      "cell_type": "code",
      "source": [
        "sym.plot(h.rhs.subs(mck), (t,0,12), ylabel=r'h(t)');"
      ],
      "metadata": {
        "colab": {
          "base_uri": "https://localhost:8080/",
          "height": 0
        },
        "id": "zxYFeHkgo_6h",
        "outputId": "681d0910-bf2b-45d9-94e4-d0f7b5f45f5d"
      },
      "execution_count": 756,
      "outputs": [
        {
          "output_type": "display_data",
          "data": {
            "text/plain": [
              "<Figure size 640x480 with 1 Axes>"
            ],
            "image/png": "[encoded data removed]"
          },
          "metadata": {}
        }
      ]
    },
    {
      "cell_type": "markdown",
      "source": [
        " Función de Transferencia\n",
        "\n",
        "Para una señal exponencial de entrada $x(t)=e^{st}$, la función de transferencia $H(s)$ representa el peso de la entrada, tal que $y(t) = H(s) \\cdot e^{s t}$. La función de transferencia se obtiene al introducir $x(t)$ y $y(t)$ en la EDO y resolver para $H(s)$"
      ],
      "metadata": {
        "id": "Ta1FKzLnpg4f"
      }
    },
    {
      "cell_type": "code",
      "source": [
        "s = sym.symbols('s')\n",
        "H = sym.Function('H')(s)\n",
        "\n",
        "H, = sym.solve(ode.subs(x, sym.exp(s*t)).subs(y, H*sym.exp(s*t)).doit(), H)\n",
        "H"
      ],
      "metadata": {
        "colab": {
          "base_uri": "https://localhost:8080/",
          "height": 0
        },
        "id": "1QcLDHQkpBoc",
        "outputId": "bc413313-f129-4bae-d498-51d71af0d64b"
      },
      "execution_count": 757,
      "outputs": [
        {
          "output_type": "execute_result",
          "data": {
            "text/plain": [
              "      1       \n",
              "──────────────\n",
              "             2\n",
              "c⋅s + k + m⋅s "
            ],
            "text/latex": "$\\displaystyle \\frac{1}{c s + k + m s^{2}}$"
          },
          "metadata": {},
          "execution_count": 757
        }
      ]
    },
    {
      "cell_type": "markdown",
      "source": [
        "Las características de transferencia de un SLIT para señales exponenciales armónicas $e^{j\\omega}=\\cos(\\omega t)+j\\sin(\\omega t)$ son de especial interés en el análisis de sistemas resonantes.\n",
        "\n",
        "Se pueden derivar de $H(s)$ sustituyendo la frecuencia compleja $s$ por $s=j\\omega$. La función de transferencia resultante $H(j\\omega)$ proporciona la atenuación y la fase que el sistema agrega a una señal de entrada armónica."
      ],
      "metadata": {
        "id": "cVsWoOVppnY2"
      }
    },
    {
      "cell_type": "code",
      "source": [
        "w = sym.symbols('omega', real=True)\n",
        "\n",
        "Hjw = H.subs(s, sym.I * w)\n",
        "Hjw"
      ],
      "metadata": {
        "colab": {
          "base_uri": "https://localhost:8080/",
          "height": 0
        },
        "id": "N_29WC9xpDvt",
        "outputId": "888b5de2-a091-4237-a06d-8065c92d2ae4"
      },
      "execution_count": 758,
      "outputs": [
        {
          "output_type": "execute_result",
          "data": {
            "text/plain": [
              "       1        \n",
              "────────────────\n",
              "               2\n",
              "ⅈ⋅c⋅ω + k - m⋅ω "
            ],
            "text/latex": "$\\displaystyle \\frac{1}{i c \\omega + k - m \\omega^{2}}$"
          },
          "metadata": {},
          "execution_count": 758
        }
      ]
    },
    {
      "cell_type": "markdown",
      "source": [
        "La magnitud de la función de transferencia $|H(j\\omega)|$ se grafica para los valores de los parámetros dados anteriormente"
      ],
      "metadata": {
        "id": "m0b1Dj9sprS3"
      }
    },
    {
      "cell_type": "code",
      "source": [
        "sym.plot(abs(Hjw.subs(mck)), (w, -15, 15), ylabel=r'$|H(j \\omega)|$', xlabel=r'$\\omega$');"
      ],
      "metadata": {
        "colab": {
          "base_uri": "https://localhost:8080/",
          "height": 0
        },
        "id": "elTjgP5xpFee",
        "outputId": "8f724bdf-1612-4d1b-ae47-3cb0b66525a2"
      },
      "execution_count": 759,
      "outputs": [
        {
          "output_type": "display_data",
          "data": {
            "text/plain": [
              "<Figure size 640x480 with 1 Axes>"
            ],
            "image/png": "[encoded data removed]"
          },
          "metadata": {}
        }
      ]
    },
    {
      "cell_type": "markdown",
      "source": [
        "Al inspeccionar la magnitud de la función de transferencia, se hace evidente que el péndulo del resorte amortiguado muestra resonancias (picos máximos) para dos frecuencias angulares específicas. Estas frecuencias de resonancia $\\omega_0$ se calculan desde los valores extremos de $|H(j\\omega)|$. Primero se calcula la derivada de $|H(j\\omega)|$ con respecto a $\\omega$ y luego se igual a cero"
      ],
      "metadata": {
        "id": "bPg9UWSJpugj"
      }
    },
    {
      "cell_type": "code",
      "source": [
        "extrema = sym.solve(sym.Eq(sym.diff(abs(Hjw), w),0),w)\n",
        "extrema"
      ],
      "metadata": {
        "colab": {
          "base_uri": "https://localhost:8080/",
          "height": 0
        },
        "id": "J9eYj7IkpHeD",
        "outputId": "d995705c-7b4f-4b37-de91-9038b77ae41a"
      },
      "execution_count": 760,
      "outputs": [
        {
          "output_type": "execute_result",
          "data": {
            "text/plain": [
              "⎡         ____________        ____________⎤\n",
              "⎢        ╱    2              ╱    2       ⎥\n",
              "⎢       ╱    c              ╱    c        ⎥\n",
              "⎢   -  ╱   - ── + k⋅m      ╱   - ── + k⋅m ⎥\n",
              "⎢    ╲╱      2           ╲╱      2        ⎥\n",
              "⎢0, ───────────────────, ─────────────────⎥\n",
              "⎣            m                   m        ⎦"
            ],
            "text/latex": "$\\displaystyle \\left[ 0, \\  - \\frac{\\sqrt{- \\frac{c^{2}}{2} + k m}}{m}, \\  \\frac{\\sqrt{- \\frac{c^{2}}{2} + k m}}{m}\\right]$"
          },
          "metadata": {},
          "execution_count": 760
        }
      ]
    },
    {
      "cell_type": "markdown",
      "source": [
        "Para los máximos de la función de transferencia solo es de interés el segundo y el tercer extremo"
      ],
      "metadata": {
        "id": "1hGmWrkfpztu"
      }
    },
    {
      "cell_type": "code",
      "source": [
        "w0 = extrema[1:3]\n",
        "w0"
      ],
      "metadata": {
        "colab": {
          "base_uri": "https://localhost:8080/",
          "height": 0
        },
        "id": "RYdOSIG3pI6E",
        "outputId": "aceaecb1-563d-4e53-c3fa-be33cb3821a4"
      },
      "execution_count": 761,
      "outputs": [
        {
          "output_type": "execute_result",
          "data": {
            "text/plain": [
              "⎡      ____________        ____________⎤\n",
              "⎢     ╱    2              ╱    2       ⎥\n",
              "⎢    ╱    c              ╱    c        ⎥\n",
              "⎢-  ╱   - ── + k⋅m      ╱   - ── + k⋅m ⎥\n",
              "⎢ ╲╱      2           ╲╱      2        ⎥\n",
              "⎢───────────────────, ─────────────────⎥\n",
              "⎣         m                   m        ⎦"
            ],
            "text/latex": "$\\displaystyle \\left[ - \\frac{\\sqrt{- \\frac{c^{2}}{2} + k m}}{m}, \\  \\frac{\\sqrt{- \\frac{c^{2}}{2} + k m}}{m}\\right]$"
          },
          "metadata": {},
          "execution_count": 761
        }
      ]
    },
    {
      "cell_type": "markdown",
      "source": [
        "Las frecuencias de resonancia se calculan para los valores de $m$, $c$ y $k$ dados anteriormente"
      ],
      "metadata": {
        "id": "I6YsrfGIp3Rj"
      }
    },
    {
      "cell_type": "code",
      "source": [
        "[w00.subs(mck) for w00 in w0]"
      ],
      "metadata": {
        "colab": {
          "base_uri": "https://localhost:8080/",
          "height": 0
        },
        "id": "LYlK5E1fpKZq",
        "outputId": "9aa28323-f004-4a7c-9ee1-be5ebd47a0e1"
      },
      "execution_count": 762,
      "outputs": [
        {
          "output_type": "execute_result",
          "data": {
            "text/plain": [
              "[-4.94974746830583, 4.94974746830583]"
            ],
            "text/latex": "$\\displaystyle \\left[ -4.94974746830583, \\  4.94974746830583\\right]$"
          },
          "metadata": {},
          "execution_count": 762
        }
      ]
    },
    {
      "cell_type": "code",
      "source": [
        "phi = sym.arg(Hjw)\n",
        "sym.plot(phi.subs(mck), (w, -15, 15), ylabel=r'$\\varphi(j \\omega)$', xlabel=r'$\\omega$');"
      ],
      "metadata": {
        "colab": {
          "base_uri": "https://localhost:8080/",
          "height": 0
        },
        "id": "5qR40ZDnpLzP",
        "outputId": "bb3a4b06-ddb0-4469-82fa-90be8eb8a9d3"
      },
      "execution_count": 763,
      "outputs": [
        {
          "output_type": "display_data",
          "data": {
            "text/plain": [
              "<Figure size 640x480 with 1 Axes>"
            ],
            "image/png": "[encoded data removed]"
          },
          "metadata": {}
        }
      ]
    },
    {
      "cell_type": "markdown",
      "source": [
        "#Punto 2 y 3\n",
        "Calculos a mano, en imagen adjunta en Github"
      ],
      "metadata": {
        "id": "6c33MdbQnmLj"
      }
    },
    {
      "cell_type": "markdown",
      "source": [
        "## Solución de SLIT segundo orden forma canónica utilizando transformada de Laplace en Sympy\n",
        "Aplicación de fracciones parciales"
      ],
      "metadata": {
        "id": "e5KHAnisOkVr"
      }
    },
    {
      "cell_type": "code",
      "source": [
        "!pip install sympy\n",
        "from scipy.signal import lti, step"
      ],
      "metadata": {
        "colab": {
          "base_uri": "https://localhost:8080/"
        },
        "id": "1wOD5Hv0HZxX",
        "outputId": "ad03a090-f16e-42b3-b65f-d49f04d4ea32"
      },
      "execution_count": 764,
      "outputs": [
        {
          "output_type": "stream",
          "name": "stdout",
          "text": [
            "Requirement already satisfied: sympy in /usr/local/lib/python3.11/dist-packages (1.13.1)\n",
            "Requirement already satisfied: mpmath<1.4,>=1.1.0 in /usr/local/lib/python3.11/dist-packages (from sympy) (1.3.0)\n"
          ]
        }
      ]
    },
    {
      "cell_type": "code",
      "execution_count": 765,
      "metadata": {
        "id": "2EHQBxiobxmT"
      },
      "outputs": [],
      "source": [
        "import sympy as sym\n",
        "import matplotlib.pyplot as plt\n",
        "import numpy as np\n",
        "sym.init_printing()\n",
        "\n",
        "s = sym.symbols('s', complex=True)\n",
        "t, c, m, k = sym.symbols('t c m k', positive=True, real=True)\n",
        "inv_k = 1 / k  # Definir 1/k como una expresión simbólica"
      ]
    },
    {
      "cell_type": "code",
      "source": [
        "#Entrada de interés en Laplace\n",
        "X = 1/s\n",
        " # X(s) = 1 Respuesta entrada impulso; X(s) = 1/s resp escalón, X(s) = 1/s**2 resp a la rampa\n",
        "#Forma canónica -> resolver según sistema propuesto\n",
        "# MODIFICAR PARA CADA CASO: IMPULS, ESCALON Y RAMPA"
      ],
      "metadata": {
        "id": "OWv1517dj2I0"
      },
      "execution_count": 766,
      "outputs": []
    },
    {
      "cell_type": "code",
      "source": [
        "K = 1 #ganancia estática\n",
        "wn = sym.sqrt(k*m) #frecuencia natural no amortiguada\n",
        "xi = m/(2*c*sym.sqrt(m/k)) #factor amortiguamiento\n",
        "H = K*(wn**2/(s**2 + 2*xi*wn*s + wn**2)) #función de transferencia en lazo cerrado slit 2 orden\n",
        "#Hlc = H/(1+H) #para lazo cerrado\n",
        "H"
      ],
      "metadata": {
        "colab": {
          "base_uri": "https://localhost:8080/",
          "height": 59
        },
        "id": "Fzo6OhyxkrP5",
        "outputId": "701cc1e5-2a69-4ef0-e702-2ffc7faaff29"
      },
      "execution_count": 767,
      "outputs": [
        {
          "output_type": "execute_result",
          "data": {
            "text/plain": [
              "      k⋅m       \n",
              "────────────────\n",
              "       2   k⋅m⋅s\n",
              "k⋅m + s  + ─────\n",
              "             c  "
            ],
            "text/latex": "$\\displaystyle \\frac{k m}{k m + s^{2} + \\frac{k m s}{c}}$"
          },
          "metadata": {},
          "execution_count": 767
        }
      ]
    },
    {
      "cell_type": "code",
      "source": [
        "#calcular polos\n",
        "p1 = -xi*wn + 1j*wn*sym.sqrt(1-xi**2)\n",
        "p2 = -xi*wn - 1j*wn*sym.sqrt(1-xi**2)\n",
        "p1"
      ],
      "metadata": {
        "colab": {
          "base_uri": "https://localhost:8080/",
          "height": 58
        },
        "id": "O8k5fHqzfqRl",
        "outputId": "e4b212db-ca3c-4c04-efa2-772cbee8322f"
      },
      "execution_count": 768,
      "outputs": [
        {
          "output_type": "execute_result",
          "data": {
            "text/plain": [
              "                 __________      \n",
              "                ╱     k⋅m     k⋅m\n",
              "1.0⋅ⅈ⋅√k⋅√m⋅   ╱  1 - ────  - ───\n",
              "              ╱          2    2⋅c\n",
              "            ╲╱        4⋅c        "
            ],
            "text/latex": "$\\displaystyle 1.0 i \\sqrt{k} \\sqrt{m} \\sqrt{1 - \\frac{k m}{4 c^{2}}} - \\frac{k m}{2 c}$"
          },
          "metadata": {},
          "execution_count": 768
        }
      ]
    },
    {
      "cell_type": "code",
      "source": [
        "#Frecuencia Natrural Amortiguada\n",
        "wd = wn*sym.sqrt(1-xi**2)\n",
        "wd"
      ],
      "metadata": {
        "colab": {
          "base_uri": "https://localhost:8080/",
          "height": 58
        },
        "id": "3w0jiCTLe-Je",
        "outputId": "de533891-69ed-41ad-b00f-fda2f87c7e26"
      },
      "execution_count": 769,
      "outputs": [
        {
          "output_type": "execute_result",
          "data": {
            "text/plain": [
              "           __________\n",
              "          ╱     k⋅m  \n",
              "√k⋅√m⋅   ╱  1 - ──── \n",
              "        ╱          2 \n",
              "      ╲╱        4⋅c  "
            ],
            "text/latex": "$\\displaystyle \\sqrt{k} \\sqrt{m} \\sqrt{1 - \\frac{k m}{4 c^{2}}}$"
          },
          "metadata": {},
          "execution_count": 769
        }
      ]
    },
    {
      "cell_type": "code",
      "source": [
        "#Tiempo pico tp\n",
        "tp = sym.pi/(wn*sym.sqrt(1-(xi**2)))\n",
        "tp"
      ],
      "metadata": {
        "colab": {
          "base_uri": "https://localhost:8080/",
          "height": 65
        },
        "id": "TW-v2UQRssyQ",
        "outputId": "e94eacd5-761a-47c4-f085-3b2ee66cb4f7"
      },
      "execution_count": 818,
      "outputs": [
        {
          "output_type": "execute_result",
          "data": {
            "text/plain": [
              "          π          \n",
              "─────────────────────\n",
              "           __________\n",
              "          ╱     k⋅m  \n",
              "√k⋅√m⋅   ╱  1 - ──── \n",
              "        ╱          2 \n",
              "      ╲╱        4⋅c  "
            ],
            "text/latex": "$\\displaystyle \\frac{\\pi}{\\sqrt{k} \\sqrt{m} \\sqrt{1 - \\frac{k m}{4 c^{2}}}}$"
          },
          "metadata": {},
          "execution_count": 818
        }
      ]
    },
    {
      "cell_type": "code",
      "source": [
        "#Tiempo establecimiento\n",
        "ts = 3/(xi*wn)\n",
        "ts"
      ],
      "metadata": {
        "colab": {
          "base_uri": "https://localhost:8080/",
          "height": 51
        },
        "id": "mIoKJtBVuuS7",
        "outputId": "beeca52c-9985-4a7e-fc6b-9777d41ada5f"
      },
      "execution_count": 771,
      "outputs": [
        {
          "output_type": "execute_result",
          "data": {
            "text/plain": [
              "6⋅c\n",
              "───\n",
              "k⋅m"
            ],
            "text/latex": "$\\displaystyle \\frac{6 c}{k m}$"
          },
          "metadata": {},
          "execution_count": 771
        }
      ]
    },
    {
      "cell_type": "code",
      "source": [
        "def tiempo_levantamiento(wn, xi):\n",
        "    \"\"\"\n",
        "    Calcula el tiempo de levantamiento (10%-90%) para un sistema de segundo orden\n",
        "    con frecuencia natural wn y factor de amortiguamiento xi.\n",
        "    \"\"\"\n",
        "    xi = float(xi)  # Convertir a número flotante para evitar problemas con SymPy\n",
        "\n",
        "    if xi < 1:  # Sistema Subamortiguado\n",
        "        wd = wn * np.sqrt(1 - xi**2)\n",
        "        theta = np.arctan(np.sqrt(1 - xi**2) / xi)\n",
        "        tr = (np.pi - theta) / wd\n",
        "\n",
        "    elif xi > 1:  # Sistema Sobreamortiguado\n",
        "        tr = 2.2 / (wn * (xi - np.sqrt(xi**2 - 1)))\n",
        "\n",
        "    else:  # Sistema Críticamente Amortiguado (xi = 1)\n",
        "        tr = 2.2 / wn\n",
        "\n",
        "    return tr\n"
      ],
      "metadata": {
        "id": "zGBNiStsxCvI"
      },
      "execution_count": 772,
      "outputs": []
    },
    {
      "cell_type": "markdown",
      "source": [
        "##Sistema Sub Amortiguado\n",
        "$0<\\xi< 1$: SLIT subamortiguado."
      ],
      "metadata": {
        "id": "G3EsYeQiZ-xW"
      }
    },
    {
      "cell_type": "code",
      "source": [
        "#evaluar valores RLC\n",
        "mkc = {c: 1, m: 1, k: 1}#valores utilizados para la simulación\n",
        "xi.subs(mkc) #Mostrar valor del factor de amortiguamiento para cer si cumple"
      ],
      "metadata": {
        "colab": {
          "base_uri": "https://localhost:8080/",
          "height": 51
        },
        "id": "vGcWmt7oaGG0",
        "outputId": "7031da2a-b06e-4e19-9e3a-273f9b64e275"
      },
      "execution_count": 773,
      "outputs": [
        {
          "output_type": "execute_result",
          "data": {
            "text/plain": [
              "1/2"
            ],
            "text/latex": "$\\displaystyle \\frac{1}{2}$"
          },
          "metadata": {},
          "execution_count": 773
        }
      ]
    },
    {
      "cell_type": "code",
      "source": [
        "H.subs(mkc)"
      ],
      "metadata": {
        "colab": {
          "base_uri": "https://localhost:8080/",
          "height": 52
        },
        "id": "kz4hHVXcgKM8",
        "outputId": "403475b4-bade-46b5-a7d4-1357dc57ebcf"
      },
      "execution_count": 774,
      "outputs": [
        {
          "output_type": "execute_result",
          "data": {
            "text/plain": [
              "    1     \n",
              "──────────\n",
              " 2        \n",
              "s  + s + 1"
            ],
            "text/latex": "$\\displaystyle \\frac{1}{s^{2} + s + 1}$"
          },
          "metadata": {},
          "execution_count": 774
        }
      ]
    },
    {
      "cell_type": "code",
      "source": [
        "print('p1=',p1.subs(mkc))\n",
        "print('p2=',p2.subs(mkc))\n",
        "print('xi=',xi.subs(mkc))\n",
        "print('omega_n=',wn.subs(mkc))"
      ],
      "metadata": {
        "colab": {
          "base_uri": "https://localhost:8080/"
        },
        "id": "gY8VCgH1DbOU",
        "outputId": "8c10caa6-9148-48fa-dc8f-d21323fcbd44"
      },
      "execution_count": 775,
      "outputs": [
        {
          "output_type": "stream",
          "name": "stdout",
          "text": [
            "p1= -1/2 + 0.5*sqrt(3)*I\n",
            "p2= -1/2 - 0.5*sqrt(3)*I\n",
            "xi= 1/2\n",
            "omega_n= 1\n"
          ]
        }
      ]
    },
    {
      "cell_type": "code",
      "source": [
        "#gráfica polos y ceros paquete de control de sympy\n",
        "from sympy.physics.control.lti import TransferFunction\n",
        "from sympy.physics.control.control_plots import pole_zero_plot\n",
        "num,den=sym.fraction(H.subs(mkc))\n",
        "\n",
        "tf1 = TransferFunction(num, den, s)#numerados y denomirador función de transferencia con valores evaluados de mkc\n",
        "pole_zero_plot(tf1)"
      ],
      "metadata": {
        "colab": {
          "base_uri": "https://localhost:8080/",
          "height": 496
        },
        "id": "3B01A-TzG-u3",
        "outputId": "413f2ae0-a538-486f-a9a5-ff2368d5f53b"
      },
      "execution_count": 776,
      "outputs": [
        {
          "output_type": "display_data",
          "data": {
            "text/plain": [
              "<Figure size 640x480 with 1 Axes>"
            ],
            "image/png": "[encoded data removed]"
          },
          "metadata": {}
        }
      ]
    },
    {
      "cell_type": "code",
      "source": [
        "#salida según entrada de interés\n",
        "Y = H * X #función de transferencia del circuito multiplicada por X(s)\n",
        "#Función de salida\n",
        "Y"
      ],
      "metadata": {
        "colab": {
          "base_uri": "https://localhost:8080/",
          "height": 59
        },
        "id": "-gEYLMU0JNtU",
        "outputId": "b4ce1b2c-b047-46ee-c81a-7820df06e353"
      },
      "execution_count": 777,
      "outputs": [
        {
          "output_type": "execute_result",
          "data": {
            "text/plain": [
              "        k⋅m         \n",
              "────────────────────\n",
              "  ⎛       2   k⋅m⋅s⎞\n",
              "s⋅⎜k⋅m + s  + ─────⎟\n",
              "  ⎝             c  ⎠"
            ],
            "text/latex": "$\\displaystyle \\frac{k m}{s \\left(k m + s^{2} + \\frac{k m s}{c}\\right)}$"
          },
          "metadata": {},
          "execution_count": 777
        }
      ]
    },
    {
      "cell_type": "code",
      "source": [
        "#Función de salida en Laplace factorizada (fracciones parciales)\n",
        "Yp = Y.apart(s) # el comando apart factoriza la expresión simbólica\n",
        "Yp\n"
      ],
      "metadata": {
        "colab": {
          "base_uri": "https://localhost:8080/",
          "height": 53
        },
        "id": "ym99kRnsb-2y",
        "outputId": "46145858-aca6-4e42-8067-00e0c84fcf87"
      },
      "execution_count": 778,
      "outputs": [
        {
          "output_type": "execute_result",
          "data": {
            "text/plain": [
              "       c⋅s + k⋅m         1\n",
              "- ──────────────────── + ─\n",
              "             2           s\n",
              "  c⋅k⋅m + c⋅s  + k⋅m⋅s    "
            ],
            "text/latex": "$\\displaystyle - \\frac{c s + k m}{c k m + c s^{2} + k m s} + \\frac{1}{s}$"
          },
          "metadata": {},
          "execution_count": 778
        }
      ]
    },
    {
      "cell_type": "code",
      "source": [
        "#Modelo en el tiempo en función de RLC\n",
        "Ye = Yp\n",
        "#Se recorre cada fracción parcial según factorización para simplificar cálculos\n",
        "for j in range(len(Ye.args)):\n",
        "    if j==0:#primer elemento de la solucion\n",
        "      yt = sym.inverse_laplace_transform(Ye.args[j], s, t)\n",
        "    else: #siguientes elementos concatenados\n",
        "      yt+= sym.inverse_laplace_transform(Ye.args[j], s, t)\n",
        "yt"
      ],
      "metadata": {
        "colab": {
          "base_uri": "https://localhost:8080/",
          "height": 75
        },
        "id": "YJ_wVzxgc_S9",
        "outputId": "24bd6a06-281e-46de-b3ae-2d721c41cffd"
      },
      "execution_count": 779,
      "outputs": [
        {
          "output_type": "execute_result",
          "data": {
            "text/plain": [
              "         -k⋅m⋅t     ⎛           ____________⎞                                            \n",
              "         ───────    ⎜          ╱    2       ⎟                                            \n",
              "           2⋅c      ⎜√k⋅√m⋅t⋅╲╱  4⋅c  - k⋅m ⎟        -k⋅m⋅t     ⎛           ____________⎞\n",
              "  √k⋅√m⋅ℯ       ⋅sin⎜───────────────────────⎟        ───────    ⎜          ╱    2       ⎟\n",
              "                    ⎝          2⋅c          ⎠          2⋅c      ⎜√k⋅√m⋅t⋅╲╱  4⋅c  - k⋅m ⎟\n",
              "- ─────────────────────────────────────────── + 1 - ℯ       ⋅cos⎜───────────────────────⎟\n",
              "                   ____________                                 ⎝          2⋅c          ⎠\n",
              "                  ╱    2                                                                 \n",
              "                ╲╱  4⋅c  - k⋅m                                                           "
            ],
            "text/latex": "$\\displaystyle - \\frac{\\sqrt{k} \\sqrt{m} e^{- \\frac{k m t}{2 c}} \\sin{\\left(\\frac{\\sqrt{k} \\sqrt{m} t \\sqrt{4 c^{2} - k m}}{2 c} \\right)}}{\\sqrt{4 c^{2} - k m}} + 1 - e^{- \\frac{k m t}{2 c}} \\cos{\\left(\\frac{\\sqrt{k} \\sqrt{m} t \\sqrt{4 c^{2} - k m}}{2 c} \\right)}$"
          },
          "metadata": {},
          "execution_count": 779
        }
      ]
    },
    {
      "cell_type": "code",
      "source": [
        "#Modelo en el tiempo en función de RLC - substituir valores\n",
        "Ye = Yp.subs(mkc).apart(s)\n",
        "Ye\n"
      ],
      "metadata": {
        "colab": {
          "base_uri": "https://localhost:8080/",
          "height": 52
        },
        "id": "wpyZX_inPjt8",
        "outputId": "086a7389-03dd-46da-a75c-a1f7c6b97cb6"
      },
      "execution_count": 780,
      "outputs": [
        {
          "output_type": "execute_result",
          "data": {
            "text/plain": [
              "    s + 1      1\n",
              "- ────────── + ─\n",
              "   2           s\n",
              "  s  + s + 1    "
            ],
            "text/latex": "$\\displaystyle - \\frac{s + 1}{s^{2} + s + 1} + \\frac{1}{s}$"
          },
          "metadata": {},
          "execution_count": 780
        }
      ]
    },
    {
      "cell_type": "code",
      "source": [
        "#Se recorre cada fracción parcial según factorización para simplificar cálculos\n",
        "for j in range(len(Ye.args)):\n",
        "    if j==0:#primer elemento de la solucion\n",
        "      yt = sym.inverse_laplace_transform(Ye.args[j], s, t)\n",
        "    else: #siguientes elementos concatenados\n",
        "      yt+= sym.inverse_laplace_transform(Ye.args[j], s, t)\n",
        "yt"
      ],
      "metadata": {
        "colab": {
          "base_uri": "https://localhost:8080/",
          "height": 75
        },
        "id": "tqbZ91hLe36K",
        "outputId": "3d238334-5a3b-43d8-fd0f-2c91ab070967"
      },
      "execution_count": 781,
      "outputs": [
        {
          "output_type": "execute_result",
          "data": {
            "text/plain": [
              "        -t                            \n",
              "        ───                           \n",
              "         2     ⎛√3⋅t⎞    -t           \n",
              "    √3⋅ℯ   ⋅sin⎜────⎟    ───          \n",
              "               ⎝ 2  ⎠     2     ⎛√3⋅t⎞\n",
              "1 - ───────────────── - ℯ   ⋅cos⎜────⎟\n",
              "            3                   ⎝ 2  ⎠"
            ],
            "text/latex": "$\\displaystyle 1 - \\frac{\\sqrt{3} e^{- \\frac{t}{2}} \\sin{\\left(\\frac{\\sqrt{3} t}{2} \\right)}}{3} - e^{- \\frac{t}{2}} \\cos{\\left(\\frac{\\sqrt{3} t}{2} \\right)}$"
          },
          "metadata": {},
          "execution_count": 781
        }
      ]
    },
    {
      "cell_type": "code",
      "source": [
        "#Gráfica de salida en el tiempo\n",
        "sym.plot(yt,(t,0,float((50/xi*wn).subs(mkc))),xlabel='$t$', ylabel='$y(t)$')\n",
        "plt.show()\n"
      ],
      "metadata": {
        "colab": {
          "base_uri": "https://localhost:8080/",
          "height": 484
        },
        "id": "N92XAWsJeHlO",
        "outputId": "d0b7fa28-3179-41c6-ec95-4808cc262415"
      },
      "execution_count": 782,
      "outputs": [
        {
          "output_type": "display_data",
          "data": {
            "text/plain": [
              "<Figure size 640x480 with 1 Axes>"
            ],
            "image/png": "[encoded data removed]"
          },
          "metadata": {}
        }
      ]
    },
    {
      "cell_type": "code",
      "source": [
        "#Frecuencia  no Amortiguada\n",
        "wn.subs(mkc)"
      ],
      "metadata": {
        "colab": {
          "base_uri": "https://localhost:8080/",
          "height": 37
        },
        "id": "MwLRMeBGgJhS",
        "outputId": "021ab195-5595-4908-b5f7-15ffdb6261ea"
      },
      "execution_count": 783,
      "outputs": [
        {
          "output_type": "execute_result",
          "data": {
            "text/plain": [
              "1"
            ],
            "text/latex": "$\\displaystyle 1$"
          },
          "metadata": {},
          "execution_count": 783
        }
      ]
    },
    {
      "cell_type": "code",
      "source": [
        "#Frecuencia Amortiguada\n",
        "wd.subs(mkc)"
      ],
      "metadata": {
        "colab": {
          "base_uri": "https://localhost:8080/",
          "height": 55
        },
        "id": "jg1fRaOAgm-D",
        "outputId": "e30c9209-f5fb-4758-f3f8-c58fb1379c94"
      },
      "execution_count": 784,
      "outputs": [
        {
          "output_type": "execute_result",
          "data": {
            "text/plain": [
              "√3\n",
              "──\n",
              "2 "
            ],
            "text/latex": "$\\displaystyle \\frac{\\sqrt{3}}{2}$"
          },
          "metadata": {},
          "execution_count": 784
        }
      ]
    },
    {
      "cell_type": "code",
      "source": [
        "#Tiempo de levantamiento\n",
        "z=xi.subs(mkc)\n",
        "tr=tiempo_levantamiento(wn, z)\n",
        "tr.subs(mkc)"
      ],
      "metadata": {
        "colab": {
          "base_uri": "https://localhost:8080/",
          "height": 37
        },
        "id": "5tN1GCMXxbLF",
        "outputId": "d5190f81-3280-4375-c6d9-9f72f3685a4d"
      },
      "execution_count": 785,
      "outputs": [
        {
          "output_type": "execute_result",
          "data": {
            "text/plain": [
              "2.41839915231229"
            ],
            "text/latex": "$\\displaystyle 2.41839915231229$"
          },
          "metadata": {},
          "execution_count": 785
        }
      ]
    },
    {
      "cell_type": "code",
      "source": [
        "#Tiempo Pico\n",
        "tp.subs(mkc)"
      ],
      "metadata": {
        "colab": {
          "base_uri": "https://localhost:8080/",
          "height": 55
        },
        "id": "U-3OltFw6VIj",
        "outputId": "9a48d422-d69c-432b-ae56-cf0dee625e90"
      },
      "execution_count": 786,
      "outputs": [
        {
          "output_type": "execute_result",
          "data": {
            "text/plain": [
              "2⋅√3⋅π\n",
              "──────\n",
              "  3   "
            ],
            "text/latex": "$\\displaystyle \\frac{2 \\sqrt{3} \\pi}{3}$"
          },
          "metadata": {},
          "execution_count": 786
        }
      ]
    },
    {
      "cell_type": "code",
      "source": [
        "#Tiempo establecimiento\n",
        "ts.subs(mkc)"
      ],
      "metadata": {
        "colab": {
          "base_uri": "https://localhost:8080/",
          "height": 37
        },
        "id": "milxEiFx6br6",
        "outputId": "b096c8ae-a7c0-4bd9-add3-77995624648a"
      },
      "execution_count": 787,
      "outputs": [
        {
          "output_type": "execute_result",
          "data": {
            "text/plain": [
              "6"
            ],
            "text/latex": "$\\displaystyle 6$"
          },
          "metadata": {},
          "execution_count": 787
        }
      ]
    },
    {
      "cell_type": "markdown",
      "source": [
        "##Sistema Sobre amortiguado\n",
        "$\\xi > 1$: SLIT sobreamortiguado"
      ],
      "metadata": {
        "id": "M4R7j0X1a2FD"
      }
    },
    {
      "cell_type": "code",
      "source": [
        "#evaluar valores RLC\n",
        "mkc = {c: 1, m: 6, k: 1}#valores utilizados para la simulación\n",
        "xi.subs(mkc) #Mostrar valor del factor de amortiguamiento para cer si cumple"
      ],
      "metadata": {
        "colab": {
          "base_uri": "https://localhost:8080/",
          "height": 55
        },
        "id": "2JAZq-SzbbXi",
        "outputId": "cf7244a6-9bd6-4285-f73f-2ac441796b25"
      },
      "execution_count": 788,
      "outputs": [
        {
          "output_type": "execute_result",
          "data": {
            "text/plain": [
              "√6\n",
              "──\n",
              "2 "
            ],
            "text/latex": "$\\displaystyle \\frac{\\sqrt{6}}{2}$"
          },
          "metadata": {},
          "execution_count": 788
        }
      ]
    },
    {
      "cell_type": "code",
      "source": [
        "H.subs(mkc)"
      ],
      "metadata": {
        "colab": {
          "base_uri": "https://localhost:8080/",
          "height": 52
        },
        "id": "qbrcBhyibg1z",
        "outputId": "47aa83eb-ce44-45c5-e12d-c41d0c04a0f9"
      },
      "execution_count": 789,
      "outputs": [
        {
          "output_type": "execute_result",
          "data": {
            "text/plain": [
              "     6      \n",
              "────────────\n",
              " 2          \n",
              "s  + 6⋅s + 6"
            ],
            "text/latex": "$\\displaystyle \\frac{6}{s^{2} + 6 s + 6}$"
          },
          "metadata": {},
          "execution_count": 789
        }
      ]
    },
    {
      "cell_type": "code",
      "source": [
        "print('p1=',p1.subs(mkc))\n",
        "print('p2=',p2.subs(mkc))\n",
        "print('xi=',xi.subs(mkc))\n",
        "print('omega_n=',wn.subs(mkc))"
      ],
      "metadata": {
        "colab": {
          "base_uri": "https://localhost:8080/"
        },
        "id": "rcwID9_BblOb",
        "outputId": "143c31fe-a277-4549-e12b-24ecf3d011e7"
      },
      "execution_count": 790,
      "outputs": [
        {
          "output_type": "stream",
          "name": "stdout",
          "text": [
            "p1= -3 - 1.0*sqrt(3)\n",
            "p2= -3 + 1.0*sqrt(3)\n",
            "xi= sqrt(6)/2\n",
            "omega_n= sqrt(6)\n"
          ]
        }
      ]
    },
    {
      "cell_type": "code",
      "source": [
        "#gráfica polos y ceros paquete de control de sympy\n",
        "from sympy.physics.control.lti import TransferFunction\n",
        "from sympy.physics.control.control_plots import pole_zero_plot\n",
        "num,den=sym.fraction(H.subs(mkc))\n",
        "\n",
        "tf1 = TransferFunction(num, den, s)#numerados y denomirador función de transferencia con valores evaluados de mkc\n",
        "pole_zero_plot(tf1)"
      ],
      "metadata": {
        "colab": {
          "base_uri": "https://localhost:8080/",
          "height": 496
        },
        "id": "q2vCCfqebrUg",
        "outputId": "21d859dc-298b-413c-8b9b-24228240821a"
      },
      "execution_count": 791,
      "outputs": [
        {
          "output_type": "display_data",
          "data": {
            "text/plain": [
              "<Figure size 640x480 with 1 Axes>"
            ],
            "image/png": "[encoded data removed]"
          },
          "metadata": {}
        }
      ]
    },
    {
      "cell_type": "code",
      "source": [
        "#salida según entrada de interés\n",
        "Y = H * X #función de transferencia del circuito multiplicada por X(s)\n",
        "#Función de salida\n",
        "Y"
      ],
      "metadata": {
        "colab": {
          "base_uri": "https://localhost:8080/",
          "height": 59
        },
        "id": "rcB0hQMPbuhs",
        "outputId": "11f8bf8e-a344-494c-934d-47cb943f76e7"
      },
      "execution_count": 792,
      "outputs": [
        {
          "output_type": "execute_result",
          "data": {
            "text/plain": [
              "        k⋅m         \n",
              "────────────────────\n",
              "  ⎛       2   k⋅m⋅s⎞\n",
              "s⋅⎜k⋅m + s  + ─────⎟\n",
              "  ⎝             c  ⎠"
            ],
            "text/latex": "$\\displaystyle \\frac{k m}{s \\left(k m + s^{2} + \\frac{k m s}{c}\\right)}$"
          },
          "metadata": {},
          "execution_count": 792
        }
      ]
    },
    {
      "cell_type": "code",
      "source": [
        "#Función de salida en Laplace factorizada (fracciones parciales)\n",
        "Yp = Y.apart(s) # el comando apart factoriza la expresión simbólica\n",
        "Yp"
      ],
      "metadata": {
        "colab": {
          "base_uri": "https://localhost:8080/",
          "height": 53
        },
        "id": "mI997diibws1",
        "outputId": "cf5d1163-7fd7-44ad-82d1-e92c5e010ec8"
      },
      "execution_count": 793,
      "outputs": [
        {
          "output_type": "execute_result",
          "data": {
            "text/plain": [
              "       c⋅s + k⋅m         1\n",
              "- ──────────────────── + ─\n",
              "             2           s\n",
              "  c⋅k⋅m + c⋅s  + k⋅m⋅s    "
            ],
            "text/latex": "$\\displaystyle - \\frac{c s + k m}{c k m + c s^{2} + k m s} + \\frac{1}{s}$"
          },
          "metadata": {},
          "execution_count": 793
        }
      ]
    },
    {
      "cell_type": "code",
      "source": [
        "#Modelo en el tiempo en función de RLC\n",
        "Ye = Yp\n",
        "#Se recorre cada fracción parcial según factorización para simplificar cálculos\n",
        "for j in range(len(Ye.args)):\n",
        "    if j==0:#primer elemento de la solucion\n",
        "      yt = sym.inverse_laplace_transform(Ye.args[j], s, t)\n",
        "    else: #siguientes elementos concatenados\n",
        "      yt+= sym.inverse_laplace_transform(Ye.args[j], s, t)\n",
        "yt"
      ],
      "metadata": {
        "colab": {
          "base_uri": "https://localhost:8080/",
          "height": 75
        },
        "id": "NzdawU6MbyzO",
        "outputId": "c1893217-ce81-4a78-ab90-87959fa1a9f4"
      },
      "execution_count": 794,
      "outputs": [
        {
          "output_type": "execute_result",
          "data": {
            "text/plain": [
              "         -k⋅m⋅t     ⎛           ____________⎞                                            \n",
              "         ───────    ⎜          ╱    2       ⎟                                            \n",
              "           2⋅c      ⎜√k⋅√m⋅t⋅╲╱  4⋅c  - k⋅m ⎟        -k⋅m⋅t     ⎛           ____________⎞\n",
              "  √k⋅√m⋅ℯ       ⋅sin⎜───────────────────────⎟        ───────    ⎜          ╱    2       ⎟\n",
              "                    ⎝          2⋅c          ⎠          2⋅c      ⎜√k⋅√m⋅t⋅╲╱  4⋅c  - k⋅m ⎟\n",
              "- ─────────────────────────────────────────── + 1 - ℯ       ⋅cos⎜───────────────────────⎟\n",
              "                   ____________                                 ⎝          2⋅c          ⎠\n",
              "                  ╱    2                                                                 \n",
              "                ╲╱  4⋅c  - k⋅m                                                           "
            ],
            "text/latex": "$\\displaystyle - \\frac{\\sqrt{k} \\sqrt{m} e^{- \\frac{k m t}{2 c}} \\sin{\\left(\\frac{\\sqrt{k} \\sqrt{m} t \\sqrt{4 c^{2} - k m}}{2 c} \\right)}}{\\sqrt{4 c^{2} - k m}} + 1 - e^{- \\frac{k m t}{2 c}} \\cos{\\left(\\frac{\\sqrt{k} \\sqrt{m} t \\sqrt{4 c^{2} - k m}}{2 c} \\right)}$"
          },
          "metadata": {},
          "execution_count": 794
        }
      ]
    },
    {
      "cell_type": "code",
      "source": [
        "#Modelo en el tiempo en función de RLC - substituir valores\n",
        "Ye = Yp.subs(mkc).apart(s)\n",
        "Ye"
      ],
      "metadata": {
        "colab": {
          "base_uri": "https://localhost:8080/",
          "height": 52
        },
        "id": "mtQumxw2b3hV",
        "outputId": "afbc9d3e-3450-4645-fe14-9d44a48ce81b"
      },
      "execution_count": 795,
      "outputs": [
        {
          "output_type": "execute_result",
          "data": {
            "text/plain": [
              "     s + 6       1\n",
              "- ──────────── + ─\n",
              "   2             s\n",
              "  s  + 6⋅s + 6    "
            ],
            "text/latex": "$\\displaystyle - \\frac{s + 6}{s^{2} + 6 s + 6} + \\frac{1}{s}$"
          },
          "metadata": {},
          "execution_count": 795
        }
      ]
    },
    {
      "cell_type": "code",
      "source": [
        "#Se recorre cada fracción parcial según factorización para simplificar cálculos\n",
        "for j in range(len(Ye.args)):\n",
        "    if j==0:#primer elemento de la solucion\n",
        "      yt = sym.inverse_laplace_transform(Ye.args[j], s, t)\n",
        "    else: #siguientes elementos concatenados\n",
        "      yt+= sym.inverse_laplace_transform(Ye.args[j], s, t)\n",
        "yt"
      ],
      "metadata": {
        "colab": {
          "base_uri": "https://localhost:8080/",
          "height": 47
        },
        "id": "cyrmipoEb5-O",
        "outputId": "b7fbe9b6-5591-4fa7-ffc9-a26a667ebb6d"
      },
      "execution_count": 796,
      "outputs": [
        {
          "output_type": "execute_result",
          "data": {
            "text/plain": [
              "        -3⋅t               -3⋅t           \n",
              "1 - √3⋅ℯ    ⋅sinh(√3⋅t) - ℯ    ⋅cosh(√3⋅t)"
            ],
            "text/latex": "$\\displaystyle 1 - \\sqrt{3} e^{- 3 t} \\sinh{\\left(\\sqrt{3} t \\right)} - e^{- 3 t} \\cosh{\\left(\\sqrt{3} t \\right)}$"
          },
          "metadata": {},
          "execution_count": 796
        }
      ]
    },
    {
      "cell_type": "code",
      "source": [
        "#Gráfica de salida en el tiempo\n",
        "sym.plot(yt,(t,0,float((40/xi*wn).subs(mkc))),xlabel='$t$', ylabel='$y(t)$')\n",
        "plt.show()"
      ],
      "metadata": {
        "colab": {
          "base_uri": "https://localhost:8080/",
          "height": 484
        },
        "id": "Y9-5LMOUb7tV",
        "outputId": "d25ed100-bc5c-458c-c3d6-c5403277ca72"
      },
      "execution_count": 797,
      "outputs": [
        {
          "output_type": "display_data",
          "data": {
            "text/plain": [
              "<Figure size 640x480 with 1 Axes>"
            ],
            "image/png": "[encoded data removed]"
          },
          "metadata": {}
        }
      ]
    },
    {
      "cell_type": "code",
      "source": [
        "#Frecuencia  no Amortiguada\n",
        "wn.subs(mkc)"
      ],
      "metadata": {
        "colab": {
          "base_uri": "https://localhost:8080/",
          "height": 38
        },
        "id": "GXrqWjGhjCqa",
        "outputId": "eae15166-6c58-4578-8cae-5df359dca02e"
      },
      "execution_count": 798,
      "outputs": [
        {
          "output_type": "execute_result",
          "data": {
            "text/plain": [
              "√6"
            ],
            "text/latex": "$\\displaystyle \\sqrt{6}$"
          },
          "metadata": {},
          "execution_count": 798
        }
      ]
    },
    {
      "cell_type": "code",
      "source": [
        "#Frecuencia Amortiguada\n",
        "wd.subs(mkc)"
      ],
      "metadata": {
        "colab": {
          "base_uri": "https://localhost:8080/",
          "height": 39
        },
        "id": "c-1ORx_ijD57",
        "outputId": "f29fb753-fa40-45ea-9ff4-66ad4d3cf6e1"
      },
      "execution_count": 799,
      "outputs": [
        {
          "output_type": "execute_result",
          "data": {
            "text/plain": [
              "√3⋅ⅈ"
            ],
            "text/latex": "$\\displaystyle \\sqrt{3} i$"
          },
          "metadata": {},
          "execution_count": 799
        }
      ]
    },
    {
      "cell_type": "code",
      "source": [
        "#Tiempo de levantamiento\n",
        "z=xi.subs(mkc)\n",
        "tr=tiempo_levantamiento(wn, z)\n",
        "tr.subs(mkc)"
      ],
      "metadata": {
        "colab": {
          "base_uri": "https://localhost:8080/",
          "height": 38
        },
        "id": "hUehSP7x61_Z",
        "outputId": "52faf3c6-05e0-4182-de80-0a4a970ec0ff"
      },
      "execution_count": 800,
      "outputs": [
        {
          "output_type": "execute_result",
          "data": {
            "text/plain": [
              "0.708345605945317⋅√6"
            ],
            "text/latex": "$\\displaystyle 0.708345605945317 \\sqrt{6}$"
          },
          "metadata": {},
          "execution_count": 800
        }
      ]
    },
    {
      "cell_type": "code",
      "source": [
        "#Tiempo Pico\n",
        "tp.subs(mkc)\n"
      ],
      "metadata": {
        "colab": {
          "base_uri": "https://localhost:8080/",
          "height": 55
        },
        "id": "v2pyaxpu630z",
        "outputId": "56ce33a4-4e46-43f5-93a0-9aab8e073508"
      },
      "execution_count": 801,
      "outputs": [
        {
          "output_type": "execute_result",
          "data": {
            "text/plain": [
              "-√3⋅ⅈ⋅π \n",
              "────────\n",
              "   3    "
            ],
            "text/latex": "$\\displaystyle - \\frac{\\sqrt{3} i \\pi}{3}$"
          },
          "metadata": {},
          "execution_count": 801
        }
      ]
    },
    {
      "cell_type": "code",
      "source": [
        "#Tiempo establecimiento\n",
        "ts.subs(mkc)"
      ],
      "metadata": {
        "colab": {
          "base_uri": "https://localhost:8080/",
          "height": 37
        },
        "id": "xeIEGnRC65J9",
        "outputId": "83954038-4be5-4584-9471-50bf179d9418"
      },
      "execution_count": 802,
      "outputs": [
        {
          "output_type": "execute_result",
          "data": {
            "text/plain": [
              "1"
            ],
            "text/latex": "$\\displaystyle 1$"
          },
          "metadata": {},
          "execution_count": 802
        }
      ]
    },
    {
      "cell_type": "markdown",
      "source": [
        "##Amortiguamiento critico\n",
        "$\\xi = 1$: SLIT con amortiguamiento crítico."
      ],
      "metadata": {
        "id": "FpFUSXgcc0gi"
      }
    },
    {
      "cell_type": "code",
      "source": [
        "#evaluar valores RLC\n",
        "mkc = {c: 1, m: 4, k: 1}#valores utilizados para la simulación\n",
        "xi.subs(mkc) #Mostrar valor del factor de amortiguamiento para cer si cumple\n"
      ],
      "metadata": {
        "colab": {
          "base_uri": "https://localhost:8080/",
          "height": 37
        },
        "id": "e8Xj3vsDc7-8",
        "outputId": "a643d773-fdc2-4e9c-e41b-72ae40aaa111"
      },
      "execution_count": 803,
      "outputs": [
        {
          "output_type": "execute_result",
          "data": {
            "text/plain": [
              "1"
            ],
            "text/latex": "$\\displaystyle 1$"
          },
          "metadata": {},
          "execution_count": 803
        }
      ]
    },
    {
      "cell_type": "code",
      "source": [
        "H.subs(mkc)"
      ],
      "metadata": {
        "colab": {
          "base_uri": "https://localhost:8080/",
          "height": 52
        },
        "id": "VmZrQdYndBWz",
        "outputId": "6648d027-28a0-4f72-84a8-110f12a6d396"
      },
      "execution_count": 804,
      "outputs": [
        {
          "output_type": "execute_result",
          "data": {
            "text/plain": [
              "     4      \n",
              "────────────\n",
              " 2          \n",
              "s  + 4⋅s + 4"
            ],
            "text/latex": "$\\displaystyle \\frac{4}{s^{2} + 4 s + 4}$"
          },
          "metadata": {},
          "execution_count": 804
        }
      ]
    },
    {
      "cell_type": "code",
      "source": [
        "print('p1=',p1.subs(mkc))\n",
        "print('p2=',p2.subs(mkc))\n",
        "print('xi=',xi.subs(mkc))\n",
        "print('omega_n=',wn.subs(mkc))"
      ],
      "metadata": {
        "colab": {
          "base_uri": "https://localhost:8080/"
        },
        "id": "jdMVxhPjdEgd",
        "outputId": "37f513c9-a69a-420a-888d-37ceda60ad15"
      },
      "execution_count": 805,
      "outputs": [
        {
          "output_type": "stream",
          "name": "stdout",
          "text": [
            "p1= -2\n",
            "p2= -2\n",
            "xi= 1\n",
            "omega_n= 2\n"
          ]
        }
      ]
    },
    {
      "cell_type": "code",
      "source": [
        "#gráfica polos y ceros paquete de control de sympy\n",
        "from sympy.physics.control.lti import TransferFunction\n",
        "from sympy.physics.control.control_plots import pole_zero_plot\n",
        "num,den=sym.fraction(H.subs(mkc))\n",
        "\n",
        "tf1 = TransferFunction(num, den, s)#numerados y denomirador función de transferencia con valores evaluados de mkc\n",
        "pole_zero_plot(tf1)"
      ],
      "metadata": {
        "colab": {
          "base_uri": "https://localhost:8080/",
          "height": 496
        },
        "id": "mPI2qpAWeXIG",
        "outputId": "c4832ec5-77ba-4c35-858a-577779b49e19"
      },
      "execution_count": 806,
      "outputs": [
        {
          "output_type": "display_data",
          "data": {
            "text/plain": [
              "<Figure size 640x480 with 1 Axes>"
            ],
            "image/png": "[encoded data removed]"
          },
          "metadata": {}
        }
      ]
    },
    {
      "cell_type": "code",
      "source": [
        "#salida según entrada de interés\n",
        "Y = H * X #función de transferencia del circuito multiplicada por X(s)\n",
        "#Función de salida\n",
        "Y"
      ],
      "metadata": {
        "colab": {
          "base_uri": "https://localhost:8080/",
          "height": 59
        },
        "id": "OOLa-plddPe_",
        "outputId": "8c29523b-d222-4541-9909-88eb9280bb99"
      },
      "execution_count": 807,
      "outputs": [
        {
          "output_type": "execute_result",
          "data": {
            "text/plain": [
              "        k⋅m         \n",
              "────────────────────\n",
              "  ⎛       2   k⋅m⋅s⎞\n",
              "s⋅⎜k⋅m + s  + ─────⎟\n",
              "  ⎝             c  ⎠"
            ],
            "text/latex": "$\\displaystyle \\frac{k m}{s \\left(k m + s^{2} + \\frac{k m s}{c}\\right)}$"
          },
          "metadata": {},
          "execution_count": 807
        }
      ]
    },
    {
      "cell_type": "code",
      "source": [
        "#Función de salida en Laplace factorizada (fracciones parciales)\n",
        "Yp = Y.apart(s) # el comando apart factoriza la expresión simbólica\n",
        "Yp"
      ],
      "metadata": {
        "colab": {
          "base_uri": "https://localhost:8080/",
          "height": 53
        },
        "id": "qpMyT3UtdWSU",
        "outputId": "b6d19154-c562-46b0-d672-d728a73325f9"
      },
      "execution_count": 808,
      "outputs": [
        {
          "output_type": "execute_result",
          "data": {
            "text/plain": [
              "       c⋅s + k⋅m         1\n",
              "- ──────────────────── + ─\n",
              "             2           s\n",
              "  c⋅k⋅m + c⋅s  + k⋅m⋅s    "
            ],
            "text/latex": "$\\displaystyle - \\frac{c s + k m}{c k m + c s^{2} + k m s} + \\frac{1}{s}$"
          },
          "metadata": {},
          "execution_count": 808
        }
      ]
    },
    {
      "cell_type": "code",
      "source": [
        "#Modelo en el tiempo en función de RLC\n",
        "Ye = Yp\n",
        "#Se recorre cada fracción parcial según factorización para simplificar cálculos\n",
        "for j in range(len(Ye.args)):\n",
        "    if j==0:#primer elemento de la solucion\n",
        "      yt = sym.inverse_laplace_transform(Ye.args[j], s, t)\n",
        "    else: #siguientes elementos concatenados\n",
        "      yt+= sym.inverse_laplace_transform(Ye.args[j], s, t)\n",
        "yt"
      ],
      "metadata": {
        "colab": {
          "base_uri": "https://localhost:8080/",
          "height": 75
        },
        "id": "wrKtlBQldd6Z",
        "outputId": "3c9384a6-54eb-4aa9-e56c-2376e94805ce"
      },
      "execution_count": 809,
      "outputs": [
        {
          "output_type": "execute_result",
          "data": {
            "text/plain": [
              "         -k⋅m⋅t     ⎛           ____________⎞                                            \n",
              "         ───────    ⎜          ╱    2       ⎟                                            \n",
              "           2⋅c      ⎜√k⋅√m⋅t⋅╲╱  4⋅c  - k⋅m ⎟        -k⋅m⋅t     ⎛           ____________⎞\n",
              "  √k⋅√m⋅ℯ       ⋅sin⎜───────────────────────⎟        ───────    ⎜          ╱    2       ⎟\n",
              "                    ⎝          2⋅c          ⎠          2⋅c      ⎜√k⋅√m⋅t⋅╲╱  4⋅c  - k⋅m ⎟\n",
              "- ─────────────────────────────────────────── + 1 - ℯ       ⋅cos⎜───────────────────────⎟\n",
              "                   ____________                                 ⎝          2⋅c          ⎠\n",
              "                  ╱    2                                                                 \n",
              "                ╲╱  4⋅c  - k⋅m                                                           "
            ],
            "text/latex": "$\\displaystyle - \\frac{\\sqrt{k} \\sqrt{m} e^{- \\frac{k m t}{2 c}} \\sin{\\left(\\frac{\\sqrt{k} \\sqrt{m} t \\sqrt{4 c^{2} - k m}}{2 c} \\right)}}{\\sqrt{4 c^{2} - k m}} + 1 - e^{- \\frac{k m t}{2 c}} \\cos{\\left(\\frac{\\sqrt{k} \\sqrt{m} t \\sqrt{4 c^{2} - k m}}{2 c} \\right)}$"
          },
          "metadata": {},
          "execution_count": 809
        }
      ]
    },
    {
      "cell_type": "code",
      "source": [
        "#Modelo en el tiempo en función de RLC - substituir valores\n",
        "Ye = Yp.subs(mkc).apart(s)\n",
        "Ye"
      ],
      "metadata": {
        "colab": {
          "base_uri": "https://localhost:8080/",
          "height": 58
        },
        "id": "wrWunAF_dj0U",
        "outputId": "8bf6ae3a-0a9e-48a5-9d01-4ca1933fbef5"
      },
      "execution_count": 810,
      "outputs": [
        {
          "output_type": "execute_result",
          "data": {
            "text/plain": [
              "    1        2       1\n",
              "- ───── - ──────── + ─\n",
              "  s + 2          2   s\n",
              "          (s + 2)     "
            ],
            "text/latex": "$\\displaystyle - \\frac{1}{s + 2} - \\frac{2}{\\left(s + 2\\right)^{2}} + \\frac{1}{s}$"
          },
          "metadata": {},
          "execution_count": 810
        }
      ]
    },
    {
      "cell_type": "code",
      "source": [
        "#Se recorre cada fracción parcial según factorización para simplificar cálculos\n",
        "for j in range(len(Ye.args)):\n",
        "    if j==0:#primer elemento de la solucion\n",
        "      yt = sym.inverse_laplace_transform(Ye.args[j], s, t)\n",
        "    else: #siguientes elementos concatenados\n",
        "      yt+= sym.inverse_laplace_transform(Ye.args[j], s, t)\n",
        "yt"
      ],
      "metadata": {
        "colab": {
          "base_uri": "https://localhost:8080/",
          "height": 38
        },
        "id": "4KjsSOu8dqGw",
        "outputId": "f253a0e2-2833-4256-d74c-ef76fa2d439e"
      },
      "execution_count": 811,
      "outputs": [
        {
          "output_type": "execute_result",
          "data": {
            "text/plain": [
              "       -2⋅t        -2⋅t\n",
              "- 2⋅t⋅ℯ     + 1 - ℯ    "
            ],
            "text/latex": "$\\displaystyle - 2 t e^{- 2 t} + 1 - e^{- 2 t}$"
          },
          "metadata": {},
          "execution_count": 811
        }
      ]
    },
    {
      "cell_type": "code",
      "source": [
        "#Gráfica de salida en el tiempo\n",
        "sym.plot(yt,(t,0,float((3/xi*wn).subs(mkc))),xlabel='$t$', ylabel='$y(t)$')\n",
        "plt.show()"
      ],
      "metadata": {
        "colab": {
          "base_uri": "https://localhost:8080/",
          "height": 484
        },
        "id": "aUrVSLmOdr5r",
        "outputId": "9aba86f7-e017-4861-a4bb-6469eeb8b82e"
      },
      "execution_count": 812,
      "outputs": [
        {
          "output_type": "display_data",
          "data": {
            "text/plain": [
              "<Figure size 640x480 with 1 Axes>"
            ],
            "image/png": "[encoded data removed]"
          },
          "metadata": {}
        }
      ]
    },
    {
      "cell_type": "code",
      "source": [
        "#Frecuencia  no Amortiguada\n",
        "wn.subs(mkc)"
      ],
      "metadata": {
        "colab": {
          "base_uri": "https://localhost:8080/",
          "height": 37
        },
        "id": "BBqGqtdzjQDf",
        "outputId": "5de6dc4c-3b7b-46ca-c00f-32d3849bff1c"
      },
      "execution_count": 813,
      "outputs": [
        {
          "output_type": "execute_result",
          "data": {
            "text/plain": [
              "2"
            ],
            "text/latex": "$\\displaystyle 2$"
          },
          "metadata": {},
          "execution_count": 813
        }
      ]
    },
    {
      "cell_type": "code",
      "source": [
        "#Frecuencia Amortiguada\n",
        "wd.subs(mkc)"
      ],
      "metadata": {
        "colab": {
          "base_uri": "https://localhost:8080/",
          "height": 37
        },
        "id": "lv0vVi3UjRLv",
        "outputId": "ee939aba-5032-4468-c694-0ee9d200ebba"
      },
      "execution_count": 814,
      "outputs": [
        {
          "output_type": "execute_result",
          "data": {
            "text/plain": [
              "0"
            ],
            "text/latex": "$\\displaystyle 0$"
          },
          "metadata": {},
          "execution_count": 814
        }
      ]
    },
    {
      "cell_type": "code",
      "source": [
        "#Tiempo de levantamiento\n",
        "z=xi.subs(mkc)\n",
        "tr=tiempo_levantamiento(wn, z)\n",
        "tr.subs(mkc)\n"
      ],
      "metadata": {
        "colab": {
          "base_uri": "https://localhost:8080/",
          "height": 37
        },
        "id": "Kv6yv3vh6_0j",
        "outputId": "16ed6c2d-b086-4ec1-a00f-33c8b59ef46d"
      },
      "execution_count": 815,
      "outputs": [
        {
          "output_type": "execute_result",
          "data": {
            "text/plain": [
              "1.10000000000000"
            ],
            "text/latex": "$\\displaystyle 1.1$"
          },
          "metadata": {},
          "execution_count": 815
        }
      ]
    },
    {
      "cell_type": "code",
      "source": [
        "#Tiempo Pico\n",
        "tp.subs(mkc)\n"
      ],
      "metadata": {
        "colab": {
          "base_uri": "https://localhost:8080/",
          "height": 37
        },
        "id": "rLsDE_Zp7A5q",
        "outputId": "8d6123a5-fb36-4424-c16c-64bc9d2681bf"
      },
      "execution_count": 816,
      "outputs": [
        {
          "output_type": "execute_result",
          "data": {
            "text/plain": [
              "zoo"
            ],
            "text/latex": "$\\displaystyle \\tilde{\\infty}$"
          },
          "metadata": {},
          "execution_count": 816
        }
      ]
    },
    {
      "cell_type": "code",
      "source": [
        "#Tiempo establecimiento\n",
        "ts.subs(mkc)"
      ],
      "metadata": {
        "colab": {
          "base_uri": "https://localhost:8080/",
          "height": 51
        },
        "id": "UwneZTqE7CAF",
        "outputId": "20596a95-1cf4-4b8c-81f1-d59751cd00b7"
      },
      "execution_count": 817,
      "outputs": [
        {
          "output_type": "execute_result",
          "data": {
            "text/plain": [
              "3/2"
            ],
            "text/latex": "$\\displaystyle \\frac{3}{2}$"
          },
          "metadata": {},
          "execution_count": 817
        }
      ]
    }
  ]
}